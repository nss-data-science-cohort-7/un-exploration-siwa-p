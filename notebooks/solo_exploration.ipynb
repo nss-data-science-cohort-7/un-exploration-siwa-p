{
 "cells": [
  {
   "cell_type": "markdown",
   "metadata": {},
   "source": [
    "Import "
   ]
  },
  {
   "cell_type": "code",
   "execution_count": 1,
   "metadata": {},
   "outputs": [],
   "source": [
    "import pandas as pd\n",
    "import numpy as np\n",
    "import matplotlib.pyplot as plt\n",
    "import seaborn as sns\n",
    "from cmath import nan\n",
    "import plotly.express as px"
   ]
  },
  {
   "cell_type": "markdown",
   "metadata": {},
   "source": [
    "#### _Load GDP per Capita database_"
   ]
  },
  {
   "cell_type": "code",
   "execution_count": 2,
   "metadata": {},
   "outputs": [],
   "source": [
    "gdp_df = pd.read_csv('../data/gdp_per_capita.csv')"
   ]
  },
  {
   "cell_type": "code",
   "execution_count": 3,
   "metadata": {},
   "outputs": [],
   "source": [
    "gdp_df = gdp_df.drop(columns=\"Value Footnotes\").rename(columns={\"Country or Area\": \"Country\", \"Value\": \"Gdp_Per_Capita\"})"
   ]
  },
  {
   "cell_type": "code",
   "execution_count": 4,
   "metadata": {},
   "outputs": [
    {
     "name": "stdout",
     "output_type": "stream",
     "text": [
      "<class 'pandas.core.frame.DataFrame'>\n",
      "RangeIndex: 7176 entries, 0 to 7175\n",
      "Data columns (total 3 columns):\n",
      " #   Column          Non-Null Count  Dtype  \n",
      "---  ------          --------------  -----  \n",
      " 0   Country         7176 non-null   object \n",
      " 1   Year            7176 non-null   int64  \n",
      " 2   Gdp_Per_Capita  7176 non-null   float64\n",
      "dtypes: float64(1), int64(1), object(1)\n",
      "memory usage: 168.3+ KB\n"
     ]
    }
   ],
   "source": [
    "gdp_df.info()"
   ]
  },
  {
   "cell_type": "markdown",
   "metadata": {},
   "source": [
    "#### _Load the wages database_"
   ]
  },
  {
   "cell_type": "code",
   "execution_count": 5,
   "metadata": {},
   "outputs": [
    {
     "name": "stderr",
     "output_type": "stream",
     "text": [
      "/tmp/ipykernel_138191/1036153830.py:1: ParserWarning: Falling back to the 'python' engine because the 'c' engine does not support skipfooter; you can avoid this warning by specifying engine='python'.\n",
      "  wages = pd.read_csv('../data/Wages.csv', sep=',', skipfooter=146).drop(columns = 'Value Footnotes')\n"
     ]
    }
   ],
   "source": [
    "wages = pd.read_csv('../data/Wages.csv', sep=',', skipfooter=146).drop(columns = 'Value Footnotes')"
   ]
  },
  {
   "cell_type": "markdown",
   "metadata": {},
   "source": [
    "_Inspect the loaded wage database_"
   ]
  },
  {
   "cell_type": "code",
   "execution_count": 6,
   "metadata": {},
   "outputs": [
    {
     "data": {
      "text/html": [
       "<div>\n",
       "<style scoped>\n",
       "    .dataframe tbody tr th:only-of-type {\n",
       "        vertical-align: middle;\n",
       "    }\n",
       "\n",
       "    .dataframe tbody tr th {\n",
       "        vertical-align: top;\n",
       "    }\n",
       "\n",
       "    .dataframe thead th {\n",
       "        text-align: right;\n",
       "    }\n",
       "</style>\n",
       "<table border=\"1\" class=\"dataframe\">\n",
       "  <thead>\n",
       "    <tr style=\"text-align: right;\">\n",
       "      <th></th>\n",
       "      <th>Country or Area</th>\n",
       "      <th>Year</th>\n",
       "      <th>Sex</th>\n",
       "      <th>Classification</th>\n",
       "      <th>Subclassification</th>\n",
       "      <th>Coverage</th>\n",
       "      <th>Scope</th>\n",
       "      <th>Source</th>\n",
       "      <th>SourceID</th>\n",
       "      <th>Value</th>\n",
       "    </tr>\n",
       "  </thead>\n",
       "  <tbody>\n",
       "    <tr>\n",
       "      <th>3039</th>\n",
       "      <td>West Bank and Gaza Strip</td>\n",
       "      <td>1996</td>\n",
       "      <td>Total men and women</td>\n",
       "      <td>ISIC-Rev.3</td>\n",
       "      <td>Total.</td>\n",
       "      <td>Employees</td>\n",
       "      <td>Earnings per day</td>\n",
       "      <td>Labour force survey</td>\n",
       "      <td># 0</td>\n",
       "      <td>46.27981</td>\n",
       "    </tr>\n",
       "    <tr>\n",
       "      <th>3040</th>\n",
       "      <td>West Bank and Gaza Strip</td>\n",
       "      <td>1996</td>\n",
       "      <td>Men</td>\n",
       "      <td>ISIC-Rev.3</td>\n",
       "      <td>Total.</td>\n",
       "      <td>Employees</td>\n",
       "      <td>Earnings per day</td>\n",
       "      <td>Labour force survey</td>\n",
       "      <td># 0</td>\n",
       "      <td>47.59668</td>\n",
       "    </tr>\n",
       "    <tr>\n",
       "      <th>3041</th>\n",
       "      <td>West Bank and Gaza Strip</td>\n",
       "      <td>1996</td>\n",
       "      <td>Women</td>\n",
       "      <td>ISIC-Rev.3</td>\n",
       "      <td>Total.</td>\n",
       "      <td>Employees</td>\n",
       "      <td>Earnings per day</td>\n",
       "      <td>Labour force survey</td>\n",
       "      <td># 0</td>\n",
       "      <td>39.64176</td>\n",
       "    </tr>\n",
       "  </tbody>\n",
       "</table>\n",
       "</div>"
      ],
      "text/plain": [
       "               Country or Area  Year                  Sex Classification  \\\n",
       "3039  West Bank and Gaza Strip  1996  Total men and women     ISIC-Rev.3   \n",
       "3040  West Bank and Gaza Strip  1996                  Men     ISIC-Rev.3   \n",
       "3041  West Bank and Gaza Strip  1996                Women     ISIC-Rev.3   \n",
       "\n",
       "     Subclassification   Coverage             Scope               Source  \\\n",
       "3039            Total.  Employees  Earnings per day  Labour force survey   \n",
       "3040            Total.  Employees  Earnings per day  Labour force survey   \n",
       "3041            Total.  Employees  Earnings per day  Labour force survey   \n",
       "\n",
       "     SourceID     Value  \n",
       "3039      # 0  46.27981  \n",
       "3040      # 0  47.59668  \n",
       "3041      # 0  39.64176  "
      ]
     },
     "execution_count": 6,
     "metadata": {},
     "output_type": "execute_result"
    }
   ],
   "source": [
    "wages.tail(3)"
   ]
  },
  {
   "cell_type": "code",
   "execution_count": 7,
   "metadata": {},
   "outputs": [
    {
     "data": {
      "text/html": [
       "<div>\n",
       "<style scoped>\n",
       "    .dataframe tbody tr th:only-of-type {\n",
       "        vertical-align: middle;\n",
       "    }\n",
       "\n",
       "    .dataframe tbody tr th {\n",
       "        vertical-align: top;\n",
       "    }\n",
       "\n",
       "    .dataframe thead th {\n",
       "        text-align: right;\n",
       "    }\n",
       "</style>\n",
       "<table border=\"1\" class=\"dataframe\">\n",
       "  <thead>\n",
       "    <tr style=\"text-align: right;\">\n",
       "      <th></th>\n",
       "      <th>Country or Area</th>\n",
       "      <th>Year</th>\n",
       "      <th>Sex</th>\n",
       "      <th>Classification</th>\n",
       "      <th>Subclassification</th>\n",
       "      <th>Coverage</th>\n",
       "      <th>Scope</th>\n",
       "      <th>Source</th>\n",
       "      <th>SourceID</th>\n",
       "      <th>Value</th>\n",
       "    </tr>\n",
       "  </thead>\n",
       "  <tbody>\n",
       "    <tr>\n",
       "      <th>0</th>\n",
       "      <td>Andorra</td>\n",
       "      <td>2007</td>\n",
       "      <td>Total men and women</td>\n",
       "      <td>ISIC-Rev.3</td>\n",
       "      <td>Total.</td>\n",
       "      <td>Employees</td>\n",
       "      <td>Earnings per month</td>\n",
       "      <td>Administrative records and related sources</td>\n",
       "      <td># 0</td>\n",
       "      <td>1810.7</td>\n",
       "    </tr>\n",
       "    <tr>\n",
       "      <th>1</th>\n",
       "      <td>Andorra</td>\n",
       "      <td>2007</td>\n",
       "      <td>Men</td>\n",
       "      <td>ISIC-Rev.3</td>\n",
       "      <td>Total.</td>\n",
       "      <td>Employees</td>\n",
       "      <td>Earnings per month</td>\n",
       "      <td>Administrative records and related sources</td>\n",
       "      <td># 0</td>\n",
       "      <td>2098.4</td>\n",
       "    </tr>\n",
       "    <tr>\n",
       "      <th>2</th>\n",
       "      <td>Andorra</td>\n",
       "      <td>2007</td>\n",
       "      <td>Women</td>\n",
       "      <td>ISIC-Rev.3</td>\n",
       "      <td>Total.</td>\n",
       "      <td>Employees</td>\n",
       "      <td>Earnings per month</td>\n",
       "      <td>Administrative records and related sources</td>\n",
       "      <td># 0</td>\n",
       "      <td>1480.9</td>\n",
       "    </tr>\n",
       "  </tbody>\n",
       "</table>\n",
       "</div>"
      ],
      "text/plain": [
       "  Country or Area  Year                  Sex Classification Subclassification  \\\n",
       "0         Andorra  2007  Total men and women     ISIC-Rev.3            Total.   \n",
       "1         Andorra  2007                  Men     ISIC-Rev.3            Total.   \n",
       "2         Andorra  2007                Women     ISIC-Rev.3            Total.   \n",
       "\n",
       "    Coverage               Scope                                      Source  \\\n",
       "0  Employees  Earnings per month  Administrative records and related sources   \n",
       "1  Employees  Earnings per month  Administrative records and related sources   \n",
       "2  Employees  Earnings per month  Administrative records and related sources   \n",
       "\n",
       "  SourceID   Value  \n",
       "0      # 0  1810.7  \n",
       "1      # 0  2098.4  \n",
       "2      # 0  1480.9  "
      ]
     },
     "execution_count": 7,
     "metadata": {},
     "output_type": "execute_result"
    }
   ],
   "source": [
    "wages.head(3)"
   ]
  },
  {
   "cell_type": "code",
   "execution_count": 8,
   "metadata": {},
   "outputs": [
    {
     "data": {
      "text/plain": [
       "(3042, 10)"
      ]
     },
     "execution_count": 8,
     "metadata": {},
     "output_type": "execute_result"
    }
   ],
   "source": [
    "wages.shape"
   ]
  },
  {
   "cell_type": "markdown",
   "metadata": {},
   "source": [
    "_There are 3042 rows and 10 columns_"
   ]
  },
  {
   "cell_type": "code",
   "execution_count": 9,
   "metadata": {},
   "outputs": [
    {
     "data": {
      "text/html": [
       "<div>\n",
       "<style scoped>\n",
       "    .dataframe tbody tr th:only-of-type {\n",
       "        vertical-align: middle;\n",
       "    }\n",
       "\n",
       "    .dataframe tbody tr th {\n",
       "        vertical-align: top;\n",
       "    }\n",
       "\n",
       "    .dataframe thead th {\n",
       "        text-align: right;\n",
       "    }\n",
       "</style>\n",
       "<table border=\"1\" class=\"dataframe\">\n",
       "  <thead>\n",
       "    <tr style=\"text-align: right;\">\n",
       "      <th></th>\n",
       "      <th>Year</th>\n",
       "      <th>Value</th>\n",
       "    </tr>\n",
       "  </thead>\n",
       "  <tbody>\n",
       "    <tr>\n",
       "      <th>count</th>\n",
       "      <td>3042.000000</td>\n",
       "      <td>3.042000e+03</td>\n",
       "    </tr>\n",
       "    <tr>\n",
       "      <th>mean</th>\n",
       "      <td>1998.573964</td>\n",
       "      <td>6.120214e+04</td>\n",
       "    </tr>\n",
       "    <tr>\n",
       "      <th>std</th>\n",
       "      <td>7.108356</td>\n",
       "      <td>5.304966e+05</td>\n",
       "    </tr>\n",
       "    <tr>\n",
       "      <th>min</th>\n",
       "      <td>1969.000000</td>\n",
       "      <td>3.091000e-01</td>\n",
       "    </tr>\n",
       "    <tr>\n",
       "      <th>25%</th>\n",
       "      <td>1995.000000</td>\n",
       "      <td>7.264189e+01</td>\n",
       "    </tr>\n",
       "    <tr>\n",
       "      <th>50%</th>\n",
       "      <td>2000.000000</td>\n",
       "      <td>3.910000e+02</td>\n",
       "    </tr>\n",
       "    <tr>\n",
       "      <th>75%</th>\n",
       "      <td>2004.000000</td>\n",
       "      <td>3.437250e+03</td>\n",
       "    </tr>\n",
       "    <tr>\n",
       "      <th>max</th>\n",
       "      <td>2008.000000</td>\n",
       "      <td>1.958082e+07</td>\n",
       "    </tr>\n",
       "  </tbody>\n",
       "</table>\n",
       "</div>"
      ],
      "text/plain": [
       "              Year         Value\n",
       "count  3042.000000  3.042000e+03\n",
       "mean   1998.573964  6.120214e+04\n",
       "std       7.108356  5.304966e+05\n",
       "min    1969.000000  3.091000e-01\n",
       "25%    1995.000000  7.264189e+01\n",
       "50%    2000.000000  3.910000e+02\n",
       "75%    2004.000000  3.437250e+03\n",
       "max    2008.000000  1.958082e+07"
      ]
     },
     "execution_count": 9,
     "metadata": {},
     "output_type": "execute_result"
    }
   ],
   "source": [
    "wages.describe()"
   ]
  },
  {
   "cell_type": "markdown",
   "metadata": {},
   "source": [
    "_std is larger than mean_ \n",
    "\n",
    "_huge margin between min and max_"
   ]
  },
  {
   "cell_type": "code",
   "execution_count": 10,
   "metadata": {},
   "outputs": [
    {
     "data": {
      "text/plain": [
       "Country or Area       object\n",
       "Year                   int64\n",
       "Sex                   object\n",
       "Classification        object\n",
       "Subclassification     object\n",
       "Coverage              object\n",
       "Scope                 object\n",
       "Source                object\n",
       "SourceID              object\n",
       "Value                float64\n",
       "dtype: object"
      ]
     },
     "execution_count": 10,
     "metadata": {},
     "output_type": "execute_result"
    }
   ],
   "source": [
    "wages.dtypes"
   ]
  },
  {
   "cell_type": "code",
   "execution_count": 11,
   "metadata": {},
   "outputs": [
    {
     "data": {
      "text/plain": [
       "array(['Earnings per month', 'Earnings per hour', 'Earnings per week',\n",
       "       'Wage rates per day', 'Wage rates per hour',\n",
       "       'Wage rates per month', 'Earnings per day'], dtype=object)"
      ]
     },
     "execution_count": 11,
     "metadata": {},
     "output_type": "execute_result"
    }
   ],
   "source": [
    "wages['Scope'].unique()"
   ]
  },
  {
   "cell_type": "code",
   "execution_count": 12,
   "metadata": {},
   "outputs": [],
   "source": [
    "wages['paid_by']=wages['Scope'].str.split(' ').str[-1].copy()"
   ]
  },
  {
   "cell_type": "code",
   "execution_count": 13,
   "metadata": {},
   "outputs": [
    {
     "data": {
      "text/html": [
       "<div>\n",
       "<style scoped>\n",
       "    .dataframe tbody tr th:only-of-type {\n",
       "        vertical-align: middle;\n",
       "    }\n",
       "\n",
       "    .dataframe tbody tr th {\n",
       "        vertical-align: top;\n",
       "    }\n",
       "\n",
       "    .dataframe thead th {\n",
       "        text-align: right;\n",
       "    }\n",
       "</style>\n",
       "<table border=\"1\" class=\"dataframe\">\n",
       "  <thead>\n",
       "    <tr style=\"text-align: right;\">\n",
       "      <th></th>\n",
       "      <th>Country or Area</th>\n",
       "      <th>Year</th>\n",
       "      <th>Sex</th>\n",
       "      <th>Classification</th>\n",
       "      <th>Subclassification</th>\n",
       "      <th>Coverage</th>\n",
       "      <th>Scope</th>\n",
       "      <th>Source</th>\n",
       "      <th>SourceID</th>\n",
       "      <th>Value</th>\n",
       "      <th>paid_by</th>\n",
       "    </tr>\n",
       "  </thead>\n",
       "  <tbody>\n",
       "    <tr>\n",
       "      <th>0</th>\n",
       "      <td>Andorra</td>\n",
       "      <td>2007</td>\n",
       "      <td>Total men and women</td>\n",
       "      <td>ISIC-Rev.3</td>\n",
       "      <td>Total.</td>\n",
       "      <td>Employees</td>\n",
       "      <td>Earnings per month</td>\n",
       "      <td>Administrative records and related sources</td>\n",
       "      <td># 0</td>\n",
       "      <td>1810.7</td>\n",
       "      <td>month</td>\n",
       "    </tr>\n",
       "    <tr>\n",
       "      <th>1</th>\n",
       "      <td>Andorra</td>\n",
       "      <td>2007</td>\n",
       "      <td>Men</td>\n",
       "      <td>ISIC-Rev.3</td>\n",
       "      <td>Total.</td>\n",
       "      <td>Employees</td>\n",
       "      <td>Earnings per month</td>\n",
       "      <td>Administrative records and related sources</td>\n",
       "      <td># 0</td>\n",
       "      <td>2098.4</td>\n",
       "      <td>month</td>\n",
       "    </tr>\n",
       "    <tr>\n",
       "      <th>2</th>\n",
       "      <td>Andorra</td>\n",
       "      <td>2007</td>\n",
       "      <td>Women</td>\n",
       "      <td>ISIC-Rev.3</td>\n",
       "      <td>Total.</td>\n",
       "      <td>Employees</td>\n",
       "      <td>Earnings per month</td>\n",
       "      <td>Administrative records and related sources</td>\n",
       "      <td># 0</td>\n",
       "      <td>1480.9</td>\n",
       "      <td>month</td>\n",
       "    </tr>\n",
       "    <tr>\n",
       "      <th>3</th>\n",
       "      <td>Andorra</td>\n",
       "      <td>2006</td>\n",
       "      <td>Total men and women</td>\n",
       "      <td>ISIC-Rev.3</td>\n",
       "      <td>Total.</td>\n",
       "      <td>Employees</td>\n",
       "      <td>Earnings per month</td>\n",
       "      <td>Administrative records and related sources</td>\n",
       "      <td># 0</td>\n",
       "      <td>1726.5</td>\n",
       "      <td>month</td>\n",
       "    </tr>\n",
       "    <tr>\n",
       "      <th>4</th>\n",
       "      <td>Andorra</td>\n",
       "      <td>2006</td>\n",
       "      <td>Men</td>\n",
       "      <td>ISIC-Rev.3</td>\n",
       "      <td>Total.</td>\n",
       "      <td>Employees</td>\n",
       "      <td>Earnings per month</td>\n",
       "      <td>Administrative records and related sources</td>\n",
       "      <td># 0</td>\n",
       "      <td>1996.4</td>\n",
       "      <td>month</td>\n",
       "    </tr>\n",
       "  </tbody>\n",
       "</table>\n",
       "</div>"
      ],
      "text/plain": [
       "  Country or Area  Year                  Sex Classification Subclassification  \\\n",
       "0         Andorra  2007  Total men and women     ISIC-Rev.3            Total.   \n",
       "1         Andorra  2007                  Men     ISIC-Rev.3            Total.   \n",
       "2         Andorra  2007                Women     ISIC-Rev.3            Total.   \n",
       "3         Andorra  2006  Total men and women     ISIC-Rev.3            Total.   \n",
       "4         Andorra  2006                  Men     ISIC-Rev.3            Total.   \n",
       "\n",
       "    Coverage               Scope                                      Source  \\\n",
       "0  Employees  Earnings per month  Administrative records and related sources   \n",
       "1  Employees  Earnings per month  Administrative records and related sources   \n",
       "2  Employees  Earnings per month  Administrative records and related sources   \n",
       "3  Employees  Earnings per month  Administrative records and related sources   \n",
       "4  Employees  Earnings per month  Administrative records and related sources   \n",
       "\n",
       "  SourceID   Value paid_by  \n",
       "0      # 0  1810.7   month  \n",
       "1      # 0  2098.4   month  \n",
       "2      # 0  1480.9   month  \n",
       "3      # 0  1726.5   month  \n",
       "4      # 0  1996.4   month  "
      ]
     },
     "execution_count": 13,
     "metadata": {},
     "output_type": "execute_result"
    }
   ],
   "source": [
    "wages.head()"
   ]
  },
  {
   "cell_type": "markdown",
   "metadata": {},
   "source": [
    "_Change the Scope of all rows to earnings per month_"
   ]
  },
  {
   "cell_type": "code",
   "execution_count": 14,
   "metadata": {},
   "outputs": [],
   "source": [
    "wages_copy = wages.copy()"
   ]
  },
  {
   "cell_type": "code",
   "execution_count": 15,
   "metadata": {},
   "outputs": [],
   "source": [
    "wages_copy.loc[wages_copy['paid_by'] == 'week', 'Value'] *= 4.33 \n",
    "wages_copy.loc[wages_copy['paid_by'] == 'day', 'Value'] *= 173.333\n",
    "wages_copy.loc[wages_copy['paid_by'] == 'hour', 'Value'] *= 1386.6667"
   ]
  },
  {
   "cell_type": "markdown",
   "metadata": {},
   "source": [
    "Check to see if the values updated !!"
   ]
  },
  {
   "cell_type": "code",
   "execution_count": 16,
   "metadata": {},
   "outputs": [
    {
     "data": {
      "text/html": [
       "<div>\n",
       "<style scoped>\n",
       "    .dataframe tbody tr th:only-of-type {\n",
       "        vertical-align: middle;\n",
       "    }\n",
       "\n",
       "    .dataframe tbody tr th {\n",
       "        vertical-align: top;\n",
       "    }\n",
       "\n",
       "    .dataframe thead th {\n",
       "        text-align: right;\n",
       "    }\n",
       "</style>\n",
       "<table border=\"1\" class=\"dataframe\">\n",
       "  <thead>\n",
       "    <tr style=\"text-align: right;\">\n",
       "      <th></th>\n",
       "      <th>Country or Area</th>\n",
       "      <th>Year</th>\n",
       "      <th>Sex</th>\n",
       "      <th>Classification</th>\n",
       "      <th>Subclassification</th>\n",
       "      <th>Coverage</th>\n",
       "      <th>Scope</th>\n",
       "      <th>Source</th>\n",
       "      <th>SourceID</th>\n",
       "      <th>Value</th>\n",
       "      <th>paid_by</th>\n",
       "    </tr>\n",
       "  </thead>\n",
       "  <tbody>\n",
       "    <tr>\n",
       "      <th>363</th>\n",
       "      <td>Canada</td>\n",
       "      <td>2008</td>\n",
       "      <td>Total men and women</td>\n",
       "      <td>ISIC-Rev.3</td>\n",
       "      <td>Total.</td>\n",
       "      <td>Wage earners</td>\n",
       "      <td>Earnings per hour</td>\n",
       "      <td>Labour-related establishment survey</td>\n",
       "      <td># 0</td>\n",
       "      <td>27955.200672</td>\n",
       "      <td>hour</td>\n",
       "    </tr>\n",
       "    <tr>\n",
       "      <th>366</th>\n",
       "      <td>Canada</td>\n",
       "      <td>2007</td>\n",
       "      <td>Total men and women</td>\n",
       "      <td>ISIC-Rev.3</td>\n",
       "      <td>Total.</td>\n",
       "      <td>Wage earners</td>\n",
       "      <td>Earnings per hour</td>\n",
       "      <td>Labour-related establishment survey</td>\n",
       "      <td># 0</td>\n",
       "      <td>27012.267316</td>\n",
       "      <td>hour</td>\n",
       "    </tr>\n",
       "  </tbody>\n",
       "</table>\n",
       "</div>"
      ],
      "text/plain": [
       "    Country or Area  Year                  Sex Classification  \\\n",
       "363          Canada  2008  Total men and women     ISIC-Rev.3   \n",
       "366          Canada  2007  Total men and women     ISIC-Rev.3   \n",
       "\n",
       "    Subclassification      Coverage              Scope  \\\n",
       "363            Total.  Wage earners  Earnings per hour   \n",
       "366            Total.  Wage earners  Earnings per hour   \n",
       "\n",
       "                                  Source SourceID         Value paid_by  \n",
       "363  Labour-related establishment survey      # 0  27955.200672    hour  \n",
       "366  Labour-related establishment survey      # 0  27012.267316    hour  "
      ]
     },
     "execution_count": 16,
     "metadata": {},
     "output_type": "execute_result"
    }
   ],
   "source": [
    "wages_copy[wages_copy['paid_by']=='hour'].head(2)"
   ]
  },
  {
   "cell_type": "code",
   "execution_count": 17,
   "metadata": {},
   "outputs": [
    {
     "data": {
      "text/html": [
       "<div>\n",
       "<style scoped>\n",
       "    .dataframe tbody tr th:only-of-type {\n",
       "        vertical-align: middle;\n",
       "    }\n",
       "\n",
       "    .dataframe tbody tr th {\n",
       "        vertical-align: top;\n",
       "    }\n",
       "\n",
       "    .dataframe thead th {\n",
       "        text-align: right;\n",
       "    }\n",
       "</style>\n",
       "<table border=\"1\" class=\"dataframe\">\n",
       "  <thead>\n",
       "    <tr style=\"text-align: right;\">\n",
       "      <th></th>\n",
       "      <th>Country or Area</th>\n",
       "      <th>Year</th>\n",
       "      <th>Sex</th>\n",
       "      <th>Classification</th>\n",
       "      <th>Subclassification</th>\n",
       "      <th>Coverage</th>\n",
       "      <th>Scope</th>\n",
       "      <th>Source</th>\n",
       "      <th>SourceID</th>\n",
       "      <th>Value</th>\n",
       "      <th>paid_by</th>\n",
       "    </tr>\n",
       "  </thead>\n",
       "  <tbody>\n",
       "    <tr>\n",
       "      <th>363</th>\n",
       "      <td>Canada</td>\n",
       "      <td>2008</td>\n",
       "      <td>Total men and women</td>\n",
       "      <td>ISIC-Rev.3</td>\n",
       "      <td>Total.</td>\n",
       "      <td>Wage earners</td>\n",
       "      <td>Earnings per hour</td>\n",
       "      <td>Labour-related establishment survey</td>\n",
       "      <td># 0</td>\n",
       "      <td>20.16</td>\n",
       "      <td>hour</td>\n",
       "    </tr>\n",
       "    <tr>\n",
       "      <th>366</th>\n",
       "      <td>Canada</td>\n",
       "      <td>2007</td>\n",
       "      <td>Total men and women</td>\n",
       "      <td>ISIC-Rev.3</td>\n",
       "      <td>Total.</td>\n",
       "      <td>Wage earners</td>\n",
       "      <td>Earnings per hour</td>\n",
       "      <td>Labour-related establishment survey</td>\n",
       "      <td># 0</td>\n",
       "      <td>19.48</td>\n",
       "      <td>hour</td>\n",
       "    </tr>\n",
       "  </tbody>\n",
       "</table>\n",
       "</div>"
      ],
      "text/plain": [
       "    Country or Area  Year                  Sex Classification  \\\n",
       "363          Canada  2008  Total men and women     ISIC-Rev.3   \n",
       "366          Canada  2007  Total men and women     ISIC-Rev.3   \n",
       "\n",
       "    Subclassification      Coverage              Scope  \\\n",
       "363            Total.  Wage earners  Earnings per hour   \n",
       "366            Total.  Wage earners  Earnings per hour   \n",
       "\n",
       "                                  Source SourceID  Value paid_by  \n",
       "363  Labour-related establishment survey      # 0  20.16    hour  \n",
       "366  Labour-related establishment survey      # 0  19.48    hour  "
      ]
     },
     "execution_count": 17,
     "metadata": {},
     "output_type": "execute_result"
    }
   ],
   "source": [
    "wages[wages['paid_by']=='hour'].head(2)"
   ]
  },
  {
   "cell_type": "code",
   "execution_count": 42,
   "metadata": {},
   "outputs": [],
   "source": [
    "wages_total = wages_copy[(wages_copy['Sex']=='Total men and women')]\n",
    "wages_men = wages_copy[wages_copy['Sex']=='Men']\n",
    "wages_women = wages_copy[wages_copy['Sex']=='Women']"
   ]
  },
  {
   "cell_type": "code",
   "execution_count": 43,
   "metadata": {},
   "outputs": [],
   "source": [
    "wages_men = wages_men[['Country or Area','Year','Value','Source','Coverage','Classification','Subclassification','SourceID']].rename(columns={\"Country or Area\": \"Country\", \"Value\": \"wages per month\"})\n",
    "wages_women = wages_women[['Country or Area','Year','Value','Source','Coverage','Classification','Subclassification','SourceID']].rename(columns={\"Country or Area\": \"Country\", \"Value\": \"wages per month\"})\n",
    "wages_total = wages_total[['Country or Area','Year','Value','Source','Coverage','Classification','Subclassification','SourceID']].rename(columns={\"Country or Area\": \"Country\", \"Value\": \"wages per month\"})"
   ]
  },
  {
   "cell_type": "markdown",
   "metadata": {},
   "source": [
    "Check out the wages_total database"
   ]
  },
  {
   "cell_type": "code",
   "execution_count": 44,
   "metadata": {},
   "outputs": [
    {
     "data": {
      "text/html": [
       "<div>\n",
       "<style scoped>\n",
       "    .dataframe tbody tr th:only-of-type {\n",
       "        vertical-align: middle;\n",
       "    }\n",
       "\n",
       "    .dataframe tbody tr th {\n",
       "        vertical-align: top;\n",
       "    }\n",
       "\n",
       "    .dataframe thead th {\n",
       "        text-align: right;\n",
       "    }\n",
       "</style>\n",
       "<table border=\"1\" class=\"dataframe\">\n",
       "  <thead>\n",
       "    <tr style=\"text-align: right;\">\n",
       "      <th></th>\n",
       "      <th>Country</th>\n",
       "      <th>Year</th>\n",
       "      <th>wages per month</th>\n",
       "      <th>Source</th>\n",
       "      <th>Coverage</th>\n",
       "      <th>Classification</th>\n",
       "      <th>Subclassification</th>\n",
       "      <th>SourceID</th>\n",
       "    </tr>\n",
       "  </thead>\n",
       "  <tbody>\n",
       "    <tr>\n",
       "      <th>0</th>\n",
       "      <td>Andorra</td>\n",
       "      <td>2007</td>\n",
       "      <td>1810.7</td>\n",
       "      <td>Administrative records and related sources</td>\n",
       "      <td>Employees</td>\n",
       "      <td>ISIC-Rev.3</td>\n",
       "      <td>Total.</td>\n",
       "      <td># 0</td>\n",
       "    </tr>\n",
       "    <tr>\n",
       "      <th>3</th>\n",
       "      <td>Andorra</td>\n",
       "      <td>2006</td>\n",
       "      <td>1726.5</td>\n",
       "      <td>Administrative records and related sources</td>\n",
       "      <td>Employees</td>\n",
       "      <td>ISIC-Rev.3</td>\n",
       "      <td>Total.</td>\n",
       "      <td># 0</td>\n",
       "    </tr>\n",
       "    <tr>\n",
       "      <th>6</th>\n",
       "      <td>Andorra</td>\n",
       "      <td>2005</td>\n",
       "      <td>1624.0</td>\n",
       "      <td>Administrative records and related sources</td>\n",
       "      <td>Employees</td>\n",
       "      <td>ISIC-Rev.3</td>\n",
       "      <td>Total.</td>\n",
       "      <td># 0</td>\n",
       "    </tr>\n",
       "    <tr>\n",
       "      <th>9</th>\n",
       "      <td>Andorra</td>\n",
       "      <td>2004</td>\n",
       "      <td>1542.9</td>\n",
       "      <td>Administrative records and related sources</td>\n",
       "      <td>Employees</td>\n",
       "      <td>ISIC-Rev.3</td>\n",
       "      <td>Total.</td>\n",
       "      <td># 0</td>\n",
       "    </tr>\n",
       "    <tr>\n",
       "      <th>12</th>\n",
       "      <td>Andorra</td>\n",
       "      <td>2003</td>\n",
       "      <td>1458.5</td>\n",
       "      <td>Administrative records and related sources</td>\n",
       "      <td>Employees</td>\n",
       "      <td>ISIC-Rev.3</td>\n",
       "      <td>Total.</td>\n",
       "      <td># 0</td>\n",
       "    </tr>\n",
       "  </tbody>\n",
       "</table>\n",
       "</div>"
      ],
      "text/plain": [
       "    Country  Year  wages per month  \\\n",
       "0   Andorra  2007           1810.7   \n",
       "3   Andorra  2006           1726.5   \n",
       "6   Andorra  2005           1624.0   \n",
       "9   Andorra  2004           1542.9   \n",
       "12  Andorra  2003           1458.5   \n",
       "\n",
       "                                        Source   Coverage Classification  \\\n",
       "0   Administrative records and related sources  Employees     ISIC-Rev.3   \n",
       "3   Administrative records and related sources  Employees     ISIC-Rev.3   \n",
       "6   Administrative records and related sources  Employees     ISIC-Rev.3   \n",
       "9   Administrative records and related sources  Employees     ISIC-Rev.3   \n",
       "12  Administrative records and related sources  Employees     ISIC-Rev.3   \n",
       "\n",
       "   Subclassification SourceID  \n",
       "0             Total.      # 0  \n",
       "3             Total.      # 0  \n",
       "6             Total.      # 0  \n",
       "9             Total.      # 0  \n",
       "12            Total.      # 0  "
      ]
     },
     "execution_count": 44,
     "metadata": {},
     "output_type": "execute_result"
    }
   ],
   "source": [
    "wages_total.head()"
   ]
  },
  {
   "cell_type": "code",
   "execution_count": 45,
   "metadata": {},
   "outputs": [
    {
     "data": {
      "text/plain": [
       "Country               object\n",
       "Year                   int64\n",
       "wages per month      float64\n",
       "Source                object\n",
       "Coverage              object\n",
       "Classification        object\n",
       "Subclassification     object\n",
       "SourceID              object\n",
       "dtype: object"
      ]
     },
     "execution_count": 45,
     "metadata": {},
     "output_type": "execute_result"
    }
   ],
   "source": [
    "wages_total.dtypes"
   ]
  },
  {
   "cell_type": "code",
   "execution_count": 46,
   "metadata": {},
   "outputs": [
    {
     "data": {
      "text/plain": [
       "92"
      ]
     },
     "execution_count": 46,
     "metadata": {},
     "output_type": "execute_result"
    }
   ],
   "source": [
    "wages_total['Country'].nunique()"
   ]
  },
  {
   "cell_type": "markdown",
   "metadata": {},
   "source": [
    "There are 92 countries represented in the dataframe wages_total"
   ]
  },
  {
   "cell_type": "code",
   "execution_count": 47,
   "metadata": {},
   "outputs": [
    {
     "data": {
      "text/plain": [
       "<Axes: xlabel='Year'>"
      ]
     },
     "execution_count": 47,
     "metadata": {},
     "output_type": "execute_result"
    },
    {
     "data": {
      "image/png": "[encoded data removed]",
      "text/plain": [
       "<Figure size 640x480 with 1 Axes>"
      ]
     },
     "metadata": {},
     "output_type": "display_data"
    }
   ],
   "source": [
    "wages_total.groupby('Year')['Country'].count().plot()"
   ]
  },
  {
   "cell_type": "code",
   "execution_count": 48,
   "metadata": {},
   "outputs": [],
   "source": [
    "wages_pivoted = pd.pivot_table(wages_total[(wages_total['Year']==2000) | (wages_total['Year']==1995)], index = ['Country'], values = 'wages per month',columns = ['Year'], dropna = True)"
   ]
  },
  {
   "cell_type": "code",
   "execution_count": 49,
   "metadata": {},
   "outputs": [],
   "source": [
    "wages_pivoted = wages_pivoted.dropna()"
   ]
  },
  {
   "cell_type": "code",
   "execution_count": 50,
   "metadata": {},
   "outputs": [
    {
     "data": {
      "text/html": [
       "<div>\n",
       "<style scoped>\n",
       "    .dataframe tbody tr th:only-of-type {\n",
       "        vertical-align: middle;\n",
       "    }\n",
       "\n",
       "    .dataframe tbody tr th {\n",
       "        vertical-align: top;\n",
       "    }\n",
       "\n",
       "    .dataframe thead th {\n",
       "        text-align: right;\n",
       "    }\n",
       "</style>\n",
       "<table border=\"1\" class=\"dataframe\">\n",
       "  <thead>\n",
       "    <tr style=\"text-align: right;\">\n",
       "      <th>Year</th>\n",
       "      <th>1995</th>\n",
       "      <th>2000</th>\n",
       "    </tr>\n",
       "    <tr>\n",
       "      <th>Country</th>\n",
       "      <th></th>\n",
       "      <th></th>\n",
       "    </tr>\n",
       "  </thead>\n",
       "  <tbody>\n",
       "    <tr>\n",
       "      <th>Armenia</th>\n",
       "      <td>7060.000000</td>\n",
       "      <td>22706.000000</td>\n",
       "    </tr>\n",
       "    <tr>\n",
       "      <th>Belarus</th>\n",
       "      <td>378072.200000</td>\n",
       "      <td>29501.700000</td>\n",
       "    </tr>\n",
       "    <tr>\n",
       "      <th>Botswana</th>\n",
       "      <td>878.000000</td>\n",
       "      <td>1593.000000</td>\n",
       "    </tr>\n",
       "    <tr>\n",
       "      <th>Brazil</th>\n",
       "      <td>578.870000</td>\n",
       "      <td>766.530000</td>\n",
       "    </tr>\n",
       "    <tr>\n",
       "      <th>Canada</th>\n",
       "      <td>11731.285418</td>\n",
       "      <td>12845.399358</td>\n",
       "    </tr>\n",
       "  </tbody>\n",
       "</table>\n",
       "</div>"
      ],
      "text/plain": [
       "Year               1995          2000\n",
       "Country                              \n",
       "Armenia     7060.000000  22706.000000\n",
       "Belarus   378072.200000  29501.700000\n",
       "Botswana     878.000000   1593.000000\n",
       "Brazil       578.870000    766.530000\n",
       "Canada     11731.285418  12845.399358"
      ]
     },
     "execution_count": 50,
     "metadata": {},
     "output_type": "execute_result"
    }
   ],
   "source": [
    "wages_pivoted.head()"
   ]
  },
  {
   "cell_type": "code",
   "execution_count": 51,
   "metadata": {},
   "outputs": [],
   "source": [
    "wages_pivoted['Percent Change']= 100*(wages_pivoted[2000]-wages_pivoted[1995])/wages_pivoted[1995]"
   ]
  },
  {
   "cell_type": "code",
   "execution_count": 28,
   "metadata": {},
   "outputs": [
    {
     "data": {
      "text/plain": [
       "Country\n",
       "Tajikistan            -97.870041\n",
       "Ukraine               -93.793745\n",
       "Belarus               -92.196808\n",
       "Italy                 -11.843137\n",
       "Saint Helena           -0.786580\n",
       "Sweden                  4.256150\n",
       "Guam                    7.838983\n",
       "Canada                  9.496947\n",
       "Paraguay               10.909810\n",
       "Mauritius              12.122418\n",
       "Dominican Republic     13.692308\n",
       "Seychelles             15.494904\n",
       "United Kingdom         16.229803\n",
       "Isle of Man            18.920089\n",
       "Netherlands            19.675861\n",
       "United States          20.446735\n",
       "Brazil                 32.418332\n",
       "Israel                 57.490724\n",
       "Slovakia               58.860320\n",
       "Czech Republic         59.696641\n",
       "Colombia               68.094637\n",
       "China                  70.383785\n",
       "Slovenia               71.139148\n",
       "Latvia                 72.131148\n",
       "Botswana               81.435080\n",
       "Guatemala              84.913590\n",
       "Costa Rica             86.746797\n",
       "Lithuania              94.608270\n",
       "Estonia               106.610526\n",
       "Hungary               119.716967\n",
       "Croatia               167.821782\n",
       "Poland                174.091764\n",
       "Mexico                201.964705\n",
       "Armenia               221.614731\n",
       "Kyrgyzstan            233.242803\n",
       "Nicaragua             537.620639\n",
       "Cyprus                554.468762\n",
       "Romania               929.801142\n",
       "Name: Percent Change, dtype: float64"
      ]
     },
     "execution_count": 28,
     "metadata": {},
     "output_type": "execute_result"
    }
   ],
   "source": [
    "wages_pivoted['Percent Change'].sort_values()"
   ]
  },
  {
   "cell_type": "code",
   "execution_count": 53,
   "metadata": {},
   "outputs": [],
   "source": [
    "wages_trend = wages_total[((wages_total['Country']=='Uzbekistan')|(wages_total['Country']=='Romania')|(wages_total['Country']=='San Marino'))&(wages_total['Year'].between(1990,2000))]"
   ]
  },
  {
   "cell_type": "code",
   "execution_count": 54,
   "metadata": {},
   "outputs": [
    {
     "data": {
      "text/plain": [
       "<Axes: xlabel='Year', ylabel=' Wages Per Month'>"
      ]
     },
     "execution_count": 54,
     "metadata": {},
     "output_type": "execute_result"
    },
    {
     "data": {
      "image/png": "[encoded data removed]",
      "text/plain": [
       "<Figure size 640x480 with 1 Axes>"
      ]
     },
     "metadata": {},
     "output_type": "display_data"
    }
   ],
   "source": [
    "wages_trend_pivoted = pd.pivot_table(wages_trend, index = ['Year'], values = 'wages per month',columns = ['Country'], dropna = True)\n",
    "wages_trend_pivoted.plot(ylabel= ' Wages Per Month')"
   ]
  },
  {
   "cell_type": "markdown",
   "metadata": {},
   "source": [
    "Take United Kingdom and investigate men vs women's wage data "
   ]
  },
  {
   "cell_type": "code",
   "execution_count": 55,
   "metadata": {},
   "outputs": [
    {
     "data": {
      "text/plain": [
       "Country\n",
       "Andorra                     False\n",
       "Armenia                     False\n",
       "Austria                     False\n",
       "Azerbaijan                  False\n",
       "Bahrain                     False\n",
       "Belarus                     False\n",
       "Bermuda                     False\n",
       "Botswana                    False\n",
       "Brazil                      False\n",
       "Bulgaria                    False\n",
       "Colombia                    False\n",
       "Costa Rica                  False\n",
       "Croatia                     False\n",
       "Cyprus                       True\n",
       "Egypt                       False\n",
       "El Salvador                 False\n",
       "France                      False\n",
       "French Polynesia            False\n",
       "Georgia                     False\n",
       "Gibraltar                   False\n",
       "Guadeloupe                  False\n",
       "Hong Kong, China            False\n",
       "Hungary                     False\n",
       "Indonesia                   False\n",
       "Isle of Man                 False\n",
       "Kazakhstan                  False\n",
       "Latvia                      False\n",
       "Liechtenstein               False\n",
       "Lithuania                   False\n",
       "Macau, China                False\n",
       "Madagascar                  False\n",
       "Malta                       False\n",
       "Martinique                  False\n",
       "Mexico                       True\n",
       "Mongolia                    False\n",
       "Nepal                       False\n",
       "Netherlands                 False\n",
       "New Caledonia               False\n",
       "Panama                      False\n",
       "Paraguay                    False\n",
       "Philippines                 False\n",
       "Qatar                       False\n",
       "Romania                     False\n",
       "Saint Helena                False\n",
       "Singapore                   False\n",
       "Sri Lanka                   False\n",
       "Swaziland                    True\n",
       "Sweden                      False\n",
       "Thailand                    False\n",
       "Turkey                      False\n",
       "Ukraine                     False\n",
       "United Kingdom               True\n",
       "Virgin Islands (British)    False\n",
       "West Bank and Gaza Strip    False\n",
       "Name: Year, dtype: bool"
      ]
     },
     "execution_count": 55,
     "metadata": {},
     "output_type": "execute_result"
    }
   ],
   "source": [
    "wages_women.groupby('Country')['Year'].count()>30 "
   ]
  },
  {
   "cell_type": "code",
   "execution_count": 74,
   "metadata": {},
   "outputs": [],
   "source": [
    "wages_men_Cyprus = wages_men[wages_men['Country']=='Cyprus']\n",
    "wages_women_Cyprus = wages_women[wages_women['Country']=='Cyprus']\n",
    "wages_total_Cyprus = wages_total[wages_total['Country']=='Cyprus']"
   ]
  },
  {
   "cell_type": "code",
   "execution_count": 76,
   "metadata": {},
   "outputs": [
    {
     "data": {
      "text/plain": [
       "array(['Labour-related establishment survey'], dtype=object)"
      ]
     },
     "execution_count": 76,
     "metadata": {},
     "output_type": "execute_result"
    }
   ],
   "source": [
    "wages_women_Cyprus['Source'].unique()"
   ]
  },
  {
   "cell_type": "code",
   "execution_count": 77,
   "metadata": {},
   "outputs": [
    {
     "data": {
      "text/plain": [
       "array(['Employees', 'Wage earners', 'Salaried employees'], dtype=object)"
      ]
     },
     "execution_count": 77,
     "metadata": {},
     "output_type": "execute_result"
    }
   ],
   "source": [
    "wages_women_Cyprus['Coverage'].unique()"
   ]
  },
  {
   "cell_type": "code",
   "execution_count": 79,
   "metadata": {},
   "outputs": [
    {
     "data": {
      "text/html": [
       "<div>\n",
       "<style scoped>\n",
       "    .dataframe tbody tr th:only-of-type {\n",
       "        vertical-align: middle;\n",
       "    }\n",
       "\n",
       "    .dataframe tbody tr th {\n",
       "        vertical-align: top;\n",
       "    }\n",
       "\n",
       "    .dataframe thead th {\n",
       "        text-align: right;\n",
       "    }\n",
       "</style>\n",
       "<table border=\"1\" class=\"dataframe\">\n",
       "  <thead>\n",
       "    <tr style=\"text-align: right;\">\n",
       "      <th></th>\n",
       "      <th>Country</th>\n",
       "      <th>Year</th>\n",
       "      <th>wages per month</th>\n",
       "      <th>Source</th>\n",
       "      <th>Coverage</th>\n",
       "      <th>Classification</th>\n",
       "      <th>Subclassification</th>\n",
       "      <th>SourceID</th>\n",
       "    </tr>\n",
       "  </thead>\n",
       "  <tbody>\n",
       "    <tr>\n",
       "      <th>593</th>\n",
       "      <td>Cyprus</td>\n",
       "      <td>2006</td>\n",
       "      <td>8195.200197</td>\n",
       "      <td>Labour-related establishment survey</td>\n",
       "      <td>Employees</td>\n",
       "      <td>ISIC-Rev.3</td>\n",
       "      <td>Total.</td>\n",
       "      <td># 0</td>\n",
       "    </tr>\n",
       "    <tr>\n",
       "      <th>594</th>\n",
       "      <td>Cyprus</td>\n",
       "      <td>2006</td>\n",
       "      <td>5213.866792</td>\n",
       "      <td>Labour-related establishment survey</td>\n",
       "      <td>Wage earners</td>\n",
       "      <td>ISIC-Rev.3</td>\n",
       "      <td>Total.</td>\n",
       "      <td># 0</td>\n",
       "    </tr>\n",
       "    <tr>\n",
       "      <th>595</th>\n",
       "      <td>Cyprus</td>\n",
       "      <td>2006</td>\n",
       "      <td>618.453900</td>\n",
       "      <td>Labour-related establishment survey</td>\n",
       "      <td>Wage earners</td>\n",
       "      <td>ISIC-Rev.3</td>\n",
       "      <td>Total.</td>\n",
       "      <td># 0</td>\n",
       "    </tr>\n",
       "    <tr>\n",
       "      <th>596</th>\n",
       "      <td>Cyprus</td>\n",
       "      <td>2006</td>\n",
       "      <td>1034.730000</td>\n",
       "      <td>Labour-related establishment survey</td>\n",
       "      <td>Salaried employees</td>\n",
       "      <td>ISIC-Rev.3</td>\n",
       "      <td>Total.</td>\n",
       "      <td># 0</td>\n",
       "    </tr>\n",
       "    <tr>\n",
       "      <th>605</th>\n",
       "      <td>Cyprus</td>\n",
       "      <td>2005</td>\n",
       "      <td>1003.150000</td>\n",
       "      <td>Labour-related establishment survey</td>\n",
       "      <td>Salaried employees</td>\n",
       "      <td>ISIC-Rev.3</td>\n",
       "      <td>Total.</td>\n",
       "      <td># 0</td>\n",
       "    </tr>\n",
       "  </tbody>\n",
       "</table>\n",
       "</div>"
      ],
      "text/plain": [
       "    Country  Year  wages per month                               Source  \\\n",
       "593  Cyprus  2006      8195.200197  Labour-related establishment survey   \n",
       "594  Cyprus  2006      5213.866792  Labour-related establishment survey   \n",
       "595  Cyprus  2006       618.453900  Labour-related establishment survey   \n",
       "596  Cyprus  2006      1034.730000  Labour-related establishment survey   \n",
       "605  Cyprus  2005      1003.150000  Labour-related establishment survey   \n",
       "\n",
       "               Coverage Classification Subclassification SourceID  \n",
       "593           Employees     ISIC-Rev.3            Total.      # 0  \n",
       "594        Wage earners     ISIC-Rev.3            Total.      # 0  \n",
       "595        Wage earners     ISIC-Rev.3            Total.      # 0  \n",
       "596  Salaried employees     ISIC-Rev.3            Total.      # 0  \n",
       "605  Salaried employees     ISIC-Rev.3            Total.      # 0  "
      ]
     },
     "execution_count": 79,
     "metadata": {},
     "output_type": "execute_result"
    }
   ],
   "source": [
    "wages_women_Cyprus.head()"
   ]
  },
  {
   "cell_type": "code",
   "execution_count": null,
   "metadata": {},
   "outputs": [],
   "source": []
  },
  {
   "cell_type": "code",
   "execution_count": 80,
   "metadata": {},
   "outputs": [
    {
     "data": {
      "application/vnd.plotly.v1+json": {
       "config": {
        "plotlyServerURL": "https://plot.ly"
       },
       "data": [
        {
         "alignmentgroup": "True",
         "boxpoints": "all",
         "fillcolor": "rgba(255,255,255,0)",
         "hoveron": "points",
         "hovertemplate": "<b>%{hovertext}</b><br><br>Coverage=Employees<br>Year=%{x}<br>wages per month=%{y}<extra></extra>",
         "hovertext": [
          "Cyprus",
          "Cyprus",
          "Cyprus",
          "Cyprus",
          "Cyprus",
          "Cyprus",
          "Cyprus",
          "Cyprus",
          "Cyprus",
          "Cyprus",
          "Cyprus"
         ],
         "legendgroup": "Employees",
         "line": {
          "color": "rgba(255,255,255,0)"
         },
         "marker": {
          "color": "#636efa"
         },
         "name": "Employees",
         "offsetgroup": "Employees",
         "orientation": "v",
         "pointpos": 0,
         "showlegend": true,
         "type": "box",
         "x": [
          2006,
          2005,
          2004,
          2003,
          2002,
          2001,
          2000,
          1999,
          1998,
          1997,
          1996
         ],
         "x0": " ",
         "xaxis": "x",
         "y": [
          8195.200197,
          7765.333519999999,
          7432.533512,
          7280.000175,
          6794.66683,
          6572.800158,
          6059.733479,
          5671.466802999999,
          5491.200132,
          5366.400129000001,
          5005.866787
         ],
         "y0": " ",
         "yaxis": "y"
        },
        {
         "alignmentgroup": "True",
         "boxpoints": "all",
         "fillcolor": "rgba(255,255,255,0)",
         "hoveron": "points",
         "hovertemplate": "<b>%{hovertext}</b><br><br>Coverage=Wage earners<br>Year=%{x}<br>wages per month=%{y}<extra></extra>",
         "hovertext": [
          "Cyprus",
          "Cyprus",
          "Cyprus",
          "Cyprus",
          "Cyprus",
          "Cyprus",
          "Cyprus",
          "Cyprus",
          "Cyprus",
          "Cyprus",
          "Cyprus",
          "Cyprus",
          "Cyprus",
          "Cyprus",
          "Cyprus",
          "Cyprus",
          "Cyprus",
          "Cyprus",
          "Cyprus",
          "Cyprus",
          "Cyprus",
          "Cyprus",
          "Cyprus",
          "Cyprus",
          "Cyprus",
          "Cyprus",
          "Cyprus"
         ],
         "legendgroup": "Wage earners",
         "line": {
          "color": "rgba(255,255,255,0)"
         },
         "marker": {
          "color": "#EF553B"
         },
         "name": "Wage earners",
         "offsetgroup": "Wage earners",
         "orientation": "v",
         "pointpos": 0,
         "showlegend": true,
         "type": "box",
         "x": [
          2006,
          2006,
          2005,
          2005,
          2004,
          2004,
          2003,
          2003,
          2002,
          2002,
          2001,
          2001,
          2000,
          1999,
          1998,
          1997,
          1997,
          1996,
          1996,
          1995,
          1994,
          1993,
          1992,
          1991,
          1990,
          1989,
          1988
         ],
         "x0": " ",
         "xaxis": "x",
         "y": [
          5213.866792,
          618.4539000000001,
          569.0919,
          4631.466778,
          4340.266771,
          515.0535,
          534.9715,
          4409.600106,
          4146.133433,
          514.8803,
          504.1419,
          4146.133433,
          3896.533427,
          3785.600091,
          3633.066754,
          420.18320000000006,
          3577.600086,
          418.62440000000004,
          3328.00008,
          385.1535,
          358.6539,
          337.43690000000004,
          308.55580000000003,
          277.8561,
          251.22660000000002,
          231.0488,
          210.6112
         ],
         "y0": " ",
         "yaxis": "y"
        },
        {
         "alignmentgroup": "True",
         "boxpoints": "all",
         "fillcolor": "rgba(255,255,255,0)",
         "hoveron": "points",
         "hovertemplate": "<b>%{hovertext}</b><br><br>Coverage=Salaried employees<br>Year=%{x}<br>wages per month=%{y}<extra></extra>",
         "hovertext": [
          "Cyprus",
          "Cyprus",
          "Cyprus",
          "Cyprus",
          "Cyprus",
          "Cyprus",
          "Cyprus",
          "Cyprus",
          "Cyprus",
          "Cyprus",
          "Cyprus",
          "Cyprus",
          "Cyprus",
          "Cyprus",
          "Cyprus",
          "Cyprus",
          "Cyprus",
          "Cyprus",
          "Cyprus"
         ],
         "legendgroup": "Salaried employees",
         "line": {
          "color": "rgba(255,255,255,0)"
         },
         "marker": {
          "color": "#00cc96"
         },
         "name": "Salaried employees",
         "offsetgroup": "Salaried employees",
         "orientation": "v",
         "pointpos": 0,
         "showlegend": true,
         "type": "box",
         "x": [
          2006,
          2005,
          2004,
          2003,
          2002,
          2001,
          2000,
          1999,
          1998,
          1997,
          1996,
          1995,
          1994,
          1993,
          1992,
          1991,
          1990,
          1989,
          1988
         ],
         "x0": " ",
         "xaxis": "x",
         "y": [
          1034.73,
          1003.15,
          956.87,
          933.3,
          875.02,
          846.41,
          807.55,
          757.58,
          730.79,
          749,
          701,
          661,
          632,
          590,
          538,
          504,
          458,
          426,
          405
         ],
         "y0": " ",
         "yaxis": "y"
        }
       ],
       "layout": {
        "boxmode": "group",
        "legend": {
         "title": {
          "text": "Coverage"
         },
         "tracegroupgap": 0
        },
        "margin": {
         "t": 60
        },
        "template": {
         "data": {
          "bar": [
           {
            "error_x": {
             "color": "#2a3f5f"
            },
            "error_y": {
             "color": "#2a3f5f"
            },
            "marker": {
             "line": {
              "color": "#E5ECF6",
              "width": 0.5
             },
             "pattern": {
              "fillmode": "overlay",
              "size": 10,
              "solidity": 0.2
             }
            },
            "type": "bar"
           }
          ],
          "barpolar": [
           {
            "marker": {
             "line": {
              "color": "#E5ECF6",
              "width": 0.5
             },
             "pattern": {
              "fillmode": "overlay",
              "size": 10,
              "solidity": 0.2
             }
            },
            "type": "barpolar"
           }
          ],
          "carpet": [
           {
            "aaxis": {
             "endlinecolor": "#2a3f5f",
             "gridcolor": "white",
             "linecolor": "white",
             "minorgridcolor": "white",
             "startlinecolor": "#2a3f5f"
            },
            "baxis": {
             "endlinecolor": "#2a3f5f",
             "gridcolor": "white",
             "linecolor": "white",
             "minorgridcolor": "white",
             "startlinecolor": "#2a3f5f"
            },
            "type": "carpet"
           }
          ],
          "choropleth": [
           {
            "colorbar": {
             "outlinewidth": 0,
             "ticks": ""
            },
            "type": "choropleth"
           }
          ],
          "contour": [
           {
            "colorbar": {
             "outlinewidth": 0,
             "ticks": ""
            },
            "colorscale": [
             [
              0,
              "#0d0887"
             ],
             [
              0.1111111111111111,
              "#46039f"
             ],
             [
              0.2222222222222222,
              "#7201a8"
             ],
             [
              0.3333333333333333,
              "#9c179e"
             ],
             [
              0.4444444444444444,
              "#bd3786"
             ],
             [
              0.5555555555555556,
              "#d8576b"
             ],
             [
              0.6666666666666666,
              "#ed7953"
             ],
             [
              0.7777777777777778,
              "#fb9f3a"
             ],
             [
              0.8888888888888888,
              "#fdca26"
             ],
             [
              1,
              "#f0f921"
             ]
            ],
            "type": "contour"
           }
          ],
          "contourcarpet": [
           {
            "colorbar": {
             "outlinewidth": 0,
             "ticks": ""
            },
            "type": "contourcarpet"
           }
          ],
          "heatmap": [
           {
            "colorbar": {
             "outlinewidth": 0,
             "ticks": ""
            },
            "colorscale": [
             [
              0,
              "#0d0887"
             ],
             [
              0.1111111111111111,
              "#46039f"
             ],
             [
              0.2222222222222222,
              "#7201a8"
             ],
             [
              0.3333333333333333,
              "#9c179e"
             ],
             [
              0.4444444444444444,
              "#bd3786"
             ],
             [
              0.5555555555555556,
              "#d8576b"
             ],
             [
              0.6666666666666666,
              "#ed7953"
             ],
             [
              0.7777777777777778,
              "#fb9f3a"
             ],
             [
              0.8888888888888888,
              "#fdca26"
             ],
             [
              1,
              "#f0f921"
             ]
            ],
            "type": "heatmap"
           }
          ],
          "heatmapgl": [
           {
            "colorbar": {
             "outlinewidth": 0,
             "ticks": ""
            },
            "colorscale": [
             [
              0,
              "#0d0887"
             ],
             [
              0.1111111111111111,
              "#46039f"
             ],
             [
              0.2222222222222222,
              "#7201a8"
             ],
             [
              0.3333333333333333,
              "#9c179e"
             ],
             [
              0.4444444444444444,
              "#bd3786"
             ],
             [
              0.5555555555555556,
              "#d8576b"
             ],
             [
              0.6666666666666666,
              "#ed7953"
             ],
             [
              0.7777777777777778,
              "#fb9f3a"
             ],
             [
              0.8888888888888888,
              "#fdca26"
             ],
             [
              1,
              "#f0f921"
             ]
            ],
            "type": "heatmapgl"
           }
          ],
          "histogram": [
           {
            "marker": {
             "pattern": {
              "fillmode": "overlay",
              "size": 10,
              "solidity": 0.2
             }
            },
            "type": "histogram"
           }
          ],
          "histogram2d": [
           {
            "colorbar": {
             "outlinewidth": 0,
             "ticks": ""
            },
            "colorscale": [
             [
              0,
              "#0d0887"
             ],
             [
              0.1111111111111111,
              "#46039f"
             ],
             [
              0.2222222222222222,
              "#7201a8"
             ],
             [
              0.3333333333333333,
              "#9c179e"
             ],
             [
              0.4444444444444444,
              "#bd3786"
             ],
             [
              0.5555555555555556,
              "#d8576b"
             ],
             [
              0.6666666666666666,
              "#ed7953"
             ],
             [
              0.7777777777777778,
              "#fb9f3a"
             ],
             [
              0.8888888888888888,
              "#fdca26"
             ],
             [
              1,
              "#f0f921"
             ]
            ],
            "type": "histogram2d"
           }
          ],
          "histogram2dcontour": [
           {
            "colorbar": {
             "outlinewidth": 0,
             "ticks": ""
            },
            "colorscale": [
             [
              0,
              "#0d0887"
             ],
             [
              0.1111111111111111,
              "#46039f"
             ],
             [
              0.2222222222222222,
              "#7201a8"
             ],
             [
              0.3333333333333333,
              "#9c179e"
             ],
             [
              0.4444444444444444,
              "#bd3786"
             ],
             [
              0.5555555555555556,
              "#d8576b"
             ],
             [
              0.6666666666666666,
              "#ed7953"
             ],
             [
              0.7777777777777778,
              "#fb9f3a"
             ],
             [
              0.8888888888888888,
              "#fdca26"
             ],
             [
              1,
              "#f0f921"
             ]
            ],
            "type": "histogram2dcontour"
           }
          ],
          "mesh3d": [
           {
            "colorbar": {
             "outlinewidth": 0,
             "ticks": ""
            },
            "type": "mesh3d"
           }
          ],
          "parcoords": [
           {
            "line": {
             "colorbar": {
              "outlinewidth": 0,
              "ticks": ""
             }
            },
            "type": "parcoords"
           }
          ],
          "pie": [
           {
            "automargin": true,
            "type": "pie"
           }
          ],
          "scatter": [
           {
            "fillpattern": {
             "fillmode": "overlay",
             "size": 10,
             "solidity": 0.2
            },
            "type": "scatter"
           }
          ],
          "scatter3d": [
           {
            "line": {
             "colorbar": {
              "outlinewidth": 0,
              "ticks": ""
             }
            },
            "marker": {
             "colorbar": {
              "outlinewidth": 0,
              "ticks": ""
             }
            },
            "type": "scatter3d"
           }
          ],
          "scattercarpet": [
           {
            "marker": {
             "colorbar": {
              "outlinewidth": 0,
              "ticks": ""
             }
            },
            "type": "scattercarpet"
           }
          ],
          "scattergeo": [
           {
            "marker": {
             "colorbar": {
              "outlinewidth": 0,
              "ticks": ""
             }
            },
            "type": "scattergeo"
           }
          ],
          "scattergl": [
           {
            "marker": {
             "colorbar": {
              "outlinewidth": 0,
              "ticks": ""
             }
            },
            "type": "scattergl"
           }
          ],
          "scattermapbox": [
           {
            "marker": {
             "colorbar": {
              "outlinewidth": 0,
              "ticks": ""
             }
            },
            "type": "scattermapbox"
           }
          ],
          "scatterpolar": [
           {
            "marker": {
             "colorbar": {
              "outlinewidth": 0,
              "ticks": ""
             }
            },
            "type": "scatterpolar"
           }
          ],
          "scatterpolargl": [
           {
            "marker": {
             "colorbar": {
              "outlinewidth": 0,
              "ticks": ""
             }
            },
            "type": "scatterpolargl"
           }
          ],
          "scatterternary": [
           {
            "marker": {
             "colorbar": {
              "outlinewidth": 0,
              "ticks": ""
             }
            },
            "type": "scatterternary"
           }
          ],
          "surface": [
           {
            "colorbar": {
             "outlinewidth": 0,
             "ticks": ""
            },
            "colorscale": [
             [
              0,
              "#0d0887"
             ],
             [
              0.1111111111111111,
              "#46039f"
             ],
             [
              0.2222222222222222,
              "#7201a8"
             ],
             [
              0.3333333333333333,
              "#9c179e"
             ],
             [
              0.4444444444444444,
              "#bd3786"
             ],
             [
              0.5555555555555556,
              "#d8576b"
             ],
             [
              0.6666666666666666,
              "#ed7953"
             ],
             [
              0.7777777777777778,
              "#fb9f3a"
             ],
             [
              0.8888888888888888,
              "#fdca26"
             ],
             [
              1,
              "#f0f921"
             ]
            ],
            "type": "surface"
           }
          ],
          "table": [
           {
            "cells": {
             "fill": {
              "color": "#EBF0F8"
             },
             "line": {
              "color": "white"
             }
            },
            "header": {
             "fill": {
              "color": "#C8D4E3"
             },
             "line": {
              "color": "white"
             }
            },
            "type": "table"
           }
          ]
         },
         "layout": {
          "annotationdefaults": {
           "arrowcolor": "#2a3f5f",
           "arrowhead": 0,
           "arrowwidth": 1
          },
          "autotypenumbers": "strict",
          "coloraxis": {
           "colorbar": {
            "outlinewidth": 0,
            "ticks": ""
           }
          },
          "colorscale": {
           "diverging": [
            [
             0,
             "#8e0152"
            ],
            [
             0.1,
             "#c51b7d"
            ],
            [
             0.2,
             "#de77ae"
            ],
            [
             0.3,
             "#f1b6da"
            ],
            [
             0.4,
             "#fde0ef"
            ],
            [
             0.5,
             "#f7f7f7"
            ],
            [
             0.6,
             "#e6f5d0"
            ],
            [
             0.7,
             "#b8e186"
            ],
            [
             0.8,
             "#7fbc41"
            ],
            [
             0.9,
             "#4d9221"
            ],
            [
             1,
             "#276419"
            ]
           ],
           "sequential": [
            [
             0,
             "#0d0887"
            ],
            [
             0.1111111111111111,
             "#46039f"
            ],
            [
             0.2222222222222222,
             "#7201a8"
            ],
            [
             0.3333333333333333,
             "#9c179e"
            ],
            [
             0.4444444444444444,
             "#bd3786"
            ],
            [
             0.5555555555555556,
             "#d8576b"
            ],
            [
             0.6666666666666666,
             "#ed7953"
            ],
            [
             0.7777777777777778,
             "#fb9f3a"
            ],
            [
             0.8888888888888888,
             "#fdca26"
            ],
            [
             1,
             "#f0f921"
            ]
           ],
           "sequentialminus": [
            [
             0,
             "#0d0887"
            ],
            [
             0.1111111111111111,
             "#46039f"
            ],
            [
             0.2222222222222222,
             "#7201a8"
            ],
            [
             0.3333333333333333,
             "#9c179e"
            ],
            [
             0.4444444444444444,
             "#bd3786"
            ],
            [
             0.5555555555555556,
             "#d8576b"
            ],
            [
             0.6666666666666666,
             "#ed7953"
            ],
            [
             0.7777777777777778,
             "#fb9f3a"
            ],
            [
             0.8888888888888888,
             "#fdca26"
            ],
            [
             1,
             "#f0f921"
            ]
           ]
          },
          "colorway": [
           "#636efa",
           "#EF553B",
           "#00cc96",
           "#ab63fa",
           "#FFA15A",
           "#19d3f3",
           "#FF6692",
           "#B6E880",
           "#FF97FF",
           "#FECB52"
          ],
          "font": {
           "color": "#2a3f5f"
          },
          "geo": {
           "bgcolor": "white",
           "lakecolor": "white",
           "landcolor": "#E5ECF6",
           "showlakes": true,
           "showland": true,
           "subunitcolor": "white"
          },
          "hoverlabel": {
           "align": "left"
          },
          "hovermode": "closest",
          "mapbox": {
           "style": "light"
          },
          "paper_bgcolor": "white",
          "plot_bgcolor": "#E5ECF6",
          "polar": {
           "angularaxis": {
            "gridcolor": "white",
            "linecolor": "white",
            "ticks": ""
           },
           "bgcolor": "#E5ECF6",
           "radialaxis": {
            "gridcolor": "white",
            "linecolor": "white",
            "ticks": ""
           }
          },
          "scene": {
           "xaxis": {
            "backgroundcolor": "#E5ECF6",
            "gridcolor": "white",
            "gridwidth": 2,
            "linecolor": "white",
            "showbackground": true,
            "ticks": "",
            "zerolinecolor": "white"
           },
           "yaxis": {
            "backgroundcolor": "#E5ECF6",
            "gridcolor": "white",
            "gridwidth": 2,
            "linecolor": "white",
            "showbackground": true,
            "ticks": "",
            "zerolinecolor": "white"
           },
           "zaxis": {
            "backgroundcolor": "#E5ECF6",
            "gridcolor": "white",
            "gridwidth": 2,
            "linecolor": "white",
            "showbackground": true,
            "ticks": "",
            "zerolinecolor": "white"
           }
          },
          "shapedefaults": {
           "line": {
            "color": "#2a3f5f"
           }
          },
          "ternary": {
           "aaxis": {
            "gridcolor": "white",
            "linecolor": "white",
            "ticks": ""
           },
           "baxis": {
            "gridcolor": "white",
            "linecolor": "white",
            "ticks": ""
           },
           "bgcolor": "#E5ECF6",
           "caxis": {
            "gridcolor": "white",
            "linecolor": "white",
            "ticks": ""
           }
          },
          "title": {
           "x": 0.05
          },
          "xaxis": {
           "automargin": true,
           "gridcolor": "white",
           "linecolor": "white",
           "ticks": "",
           "title": {
            "standoff": 15
           },
           "zerolinecolor": "white",
           "zerolinewidth": 2
          },
          "yaxis": {
           "automargin": true,
           "gridcolor": "white",
           "linecolor": "white",
           "ticks": "",
           "title": {
            "standoff": 15
           },
           "zerolinecolor": "white",
           "zerolinewidth": 2
          }
         }
        },
        "xaxis": {
         "anchor": "y",
         "domain": [
          0,
          1
         ],
         "title": {
          "text": "Year"
         }
        },
        "yaxis": {
         "anchor": "x",
         "domain": [
          0,
          1
         ],
         "title": {
          "text": "wages per month"
         }
        }
       }
      }
     },
     "metadata": {},
     "output_type": "display_data"
    }
   ],
   "source": [
    "px.strip(wages_women_Cyprus, x = 'Year', y = 'wages per month',color = 'Coverage',hover_name= 'Country')"
   ]
  },
  {
   "cell_type": "code",
   "execution_count": 81,
   "metadata": {},
   "outputs": [],
   "source": [
    "wages_total_Cyprus = wages_total_Cyprus[wages_total_Cyprus['Coverage']=='Salaried employees']\n",
    "wages_men_Cyprus = wages_men_Cyprus[wages_men_Cyprus['Coverage']=='Salaried employees']\n",
    "wages_women_Cyprus = wages_women_Cyprus[wages_women_Cyprus['Coverage']=='Salaried employees']"
   ]
  },
  {
   "cell_type": "code",
   "execution_count": 82,
   "metadata": {},
   "outputs": [
    {
     "data": {
      "application/vnd.plotly.v1+json": {
       "config": {
        "plotlyServerURL": "https://plot.ly"
       },
       "data": [
        {
         "alignmentgroup": "True",
         "boxpoints": "all",
         "fillcolor": "rgba(255,255,255,0)",
         "hoveron": "points",
         "hovertemplate": "<b>%{hovertext}</b><br><br>Coverage=Salaried employees<br>Year=%{x}<br>wages per month=%{y}<extra></extra>",
         "hovertext": [
          "Cyprus",
          "Cyprus",
          "Cyprus",
          "Cyprus",
          "Cyprus",
          "Cyprus",
          "Cyprus",
          "Cyprus",
          "Cyprus",
          "Cyprus",
          "Cyprus",
          "Cyprus",
          "Cyprus",
          "Cyprus",
          "Cyprus",
          "Cyprus",
          "Cyprus",
          "Cyprus",
          "Cyprus"
         ],
         "legendgroup": "Salaried employees",
         "line": {
          "color": "rgba(255,255,255,0)"
         },
         "marker": {
          "color": "#636efa"
         },
         "name": "Salaried employees",
         "offsetgroup": "Salaried employees",
         "orientation": "v",
         "pointpos": 0,
         "showlegend": true,
         "type": "box",
         "x": [
          2006,
          2005,
          2004,
          2003,
          2002,
          2001,
          2000,
          1999,
          1998,
          1997,
          1996,
          1995,
          1994,
          1993,
          1992,
          1991,
          1990,
          1989,
          1988
         ],
         "x0": " ",
         "xaxis": "x",
         "y": [
          1034.73,
          1003.15,
          956.87,
          933.3,
          875.02,
          846.41,
          807.55,
          757.58,
          730.79,
          749,
          701,
          661,
          632,
          590,
          538,
          504,
          458,
          426,
          405
         ],
         "y0": " ",
         "yaxis": "y"
        }
       ],
       "layout": {
        "boxmode": "group",
        "legend": {
         "title": {
          "text": "Coverage"
         },
         "tracegroupgap": 0
        },
        "margin": {
         "t": 60
        },
        "template": {
         "data": {
          "bar": [
           {
            "error_x": {
             "color": "#2a3f5f"
            },
            "error_y": {
             "color": "#2a3f5f"
            },
            "marker": {
             "line": {
              "color": "#E5ECF6",
              "width": 0.5
             },
             "pattern": {
              "fillmode": "overlay",
              "size": 10,
              "solidity": 0.2
             }
            },
            "type": "bar"
           }
          ],
          "barpolar": [
           {
            "marker": {
             "line": {
              "color": "#E5ECF6",
              "width": 0.5
             },
             "pattern": {
              "fillmode": "overlay",
              "size": 10,
              "solidity": 0.2
             }
            },
            "type": "barpolar"
           }
          ],
          "carpet": [
           {
            "aaxis": {
             "endlinecolor": "#2a3f5f",
             "gridcolor": "white",
             "linecolor": "white",
             "minorgridcolor": "white",
             "startlinecolor": "#2a3f5f"
            },
            "baxis": {
             "endlinecolor": "#2a3f5f",
             "gridcolor": "white",
             "linecolor": "white",
             "minorgridcolor": "white",
             "startlinecolor": "#2a3f5f"
            },
            "type": "carpet"
           }
          ],
          "choropleth": [
           {
            "colorbar": {
             "outlinewidth": 0,
             "ticks": ""
            },
            "type": "choropleth"
           }
          ],
          "contour": [
           {
            "colorbar": {
             "outlinewidth": 0,
             "ticks": ""
            },
            "colorscale": [
             [
              0,
              "#0d0887"
             ],
             [
              0.1111111111111111,
              "#46039f"
             ],
             [
              0.2222222222222222,
              "#7201a8"
             ],
             [
              0.3333333333333333,
              "#9c179e"
             ],
             [
              0.4444444444444444,
              "#bd3786"
             ],
             [
              0.5555555555555556,
              "#d8576b"
             ],
             [
              0.6666666666666666,
              "#ed7953"
             ],
             [
              0.7777777777777778,
              "#fb9f3a"
             ],
             [
              0.8888888888888888,
              "#fdca26"
             ],
             [
              1,
              "#f0f921"
             ]
            ],
            "type": "contour"
           }
          ],
          "contourcarpet": [
           {
            "colorbar": {
             "outlinewidth": 0,
             "ticks": ""
            },
            "type": "contourcarpet"
           }
          ],
          "heatmap": [
           {
            "colorbar": {
             "outlinewidth": 0,
             "ticks": ""
            },
            "colorscale": [
             [
              0,
              "#0d0887"
             ],
             [
              0.1111111111111111,
              "#46039f"
             ],
             [
              0.2222222222222222,
              "#7201a8"
             ],
             [
              0.3333333333333333,
              "#9c179e"
             ],
             [
              0.4444444444444444,
              "#bd3786"
             ],
             [
              0.5555555555555556,
              "#d8576b"
             ],
             [
              0.6666666666666666,
              "#ed7953"
             ],
             [
              0.7777777777777778,
              "#fb9f3a"
             ],
             [
              0.8888888888888888,
              "#fdca26"
             ],
             [
              1,
              "#f0f921"
             ]
            ],
            "type": "heatmap"
           }
          ],
          "heatmapgl": [
           {
            "colorbar": {
             "outlinewidth": 0,
             "ticks": ""
            },
            "colorscale": [
             [
              0,
              "#0d0887"
             ],
             [
              0.1111111111111111,
              "#46039f"
             ],
             [
              0.2222222222222222,
              "#7201a8"
             ],
             [
              0.3333333333333333,
              "#9c179e"
             ],
             [
              0.4444444444444444,
              "#bd3786"
             ],
             [
              0.5555555555555556,
              "#d8576b"
             ],
             [
              0.6666666666666666,
              "#ed7953"
             ],
             [
              0.7777777777777778,
              "#fb9f3a"
             ],
             [
              0.8888888888888888,
              "#fdca26"
             ],
             [
              1,
              "#f0f921"
             ]
            ],
            "type": "heatmapgl"
           }
          ],
          "histogram": [
           {
            "marker": {
             "pattern": {
              "fillmode": "overlay",
              "size": 10,
              "solidity": 0.2
             }
            },
            "type": "histogram"
           }
          ],
          "histogram2d": [
           {
            "colorbar": {
             "outlinewidth": 0,
             "ticks": ""
            },
            "colorscale": [
             [
              0,
              "#0d0887"
             ],
             [
              0.1111111111111111,
              "#46039f"
             ],
             [
              0.2222222222222222,
              "#7201a8"
             ],
             [
              0.3333333333333333,
              "#9c179e"
             ],
             [
              0.4444444444444444,
              "#bd3786"
             ],
             [
              0.5555555555555556,
              "#d8576b"
             ],
             [
              0.6666666666666666,
              "#ed7953"
             ],
             [
              0.7777777777777778,
              "#fb9f3a"
             ],
             [
              0.8888888888888888,
              "#fdca26"
             ],
             [
              1,
              "#f0f921"
             ]
            ],
            "type": "histogram2d"
           }
          ],
          "histogram2dcontour": [
           {
            "colorbar": {
             "outlinewidth": 0,
             "ticks": ""
            },
            "colorscale": [
             [
              0,
              "#0d0887"
             ],
             [
              0.1111111111111111,
              "#46039f"
             ],
             [
              0.2222222222222222,
              "#7201a8"
             ],
             [
              0.3333333333333333,
              "#9c179e"
             ],
             [
              0.4444444444444444,
              "#bd3786"
             ],
             [
              0.5555555555555556,
              "#d8576b"
             ],
             [
              0.6666666666666666,
              "#ed7953"
             ],
             [
              0.7777777777777778,
              "#fb9f3a"
             ],
             [
              0.8888888888888888,
              "#fdca26"
             ],
             [
              1,
              "#f0f921"
             ]
            ],
            "type": "histogram2dcontour"
           }
          ],
          "mesh3d": [
           {
            "colorbar": {
             "outlinewidth": 0,
             "ticks": ""
            },
            "type": "mesh3d"
           }
          ],
          "parcoords": [
           {
            "line": {
             "colorbar": {
              "outlinewidth": 0,
              "ticks": ""
             }
            },
            "type": "parcoords"
           }
          ],
          "pie": [
           {
            "automargin": true,
            "type": "pie"
           }
          ],
          "scatter": [
           {
            "fillpattern": {
             "fillmode": "overlay",
             "size": 10,
             "solidity": 0.2
            },
            "type": "scatter"
           }
          ],
          "scatter3d": [
           {
            "line": {
             "colorbar": {
              "outlinewidth": 0,
              "ticks": ""
             }
            },
            "marker": {
             "colorbar": {
              "outlinewidth": 0,
              "ticks": ""
             }
            },
            "type": "scatter3d"
           }
          ],
          "scattercarpet": [
           {
            "marker": {
             "colorbar": {
              "outlinewidth": 0,
              "ticks": ""
             }
            },
            "type": "scattercarpet"
           }
          ],
          "scattergeo": [
           {
            "marker": {
             "colorbar": {
              "outlinewidth": 0,
              "ticks": ""
             }
            },
            "type": "scattergeo"
           }
          ],
          "scattergl": [
           {
            "marker": {
             "colorbar": {
              "outlinewidth": 0,
              "ticks": ""
             }
            },
            "type": "scattergl"
           }
          ],
          "scattermapbox": [
           {
            "marker": {
             "colorbar": {
              "outlinewidth": 0,
              "ticks": ""
             }
            },
            "type": "scattermapbox"
           }
          ],
          "scatterpolar": [
           {
            "marker": {
             "colorbar": {
              "outlinewidth": 0,
              "ticks": ""
             }
            },
            "type": "scatterpolar"
           }
          ],
          "scatterpolargl": [
           {
            "marker": {
             "colorbar": {
              "outlinewidth": 0,
              "ticks": ""
             }
            },
            "type": "scatterpolargl"
           }
          ],
          "scatterternary": [
           {
            "marker": {
             "colorbar": {
              "outlinewidth": 0,
              "ticks": ""
             }
            },
            "type": "scatterternary"
           }
          ],
          "surface": [
           {
            "colorbar": {
             "outlinewidth": 0,
             "ticks": ""
            },
            "colorscale": [
             [
              0,
              "#0d0887"
             ],
             [
              0.1111111111111111,
              "#46039f"
             ],
             [
              0.2222222222222222,
              "#7201a8"
             ],
             [
              0.3333333333333333,
              "#9c179e"
             ],
             [
              0.4444444444444444,
              "#bd3786"
             ],
             [
              0.5555555555555556,
              "#d8576b"
             ],
             [
              0.6666666666666666,
              "#ed7953"
             ],
             [
              0.7777777777777778,
              "#fb9f3a"
             ],
             [
              0.8888888888888888,
              "#fdca26"
             ],
             [
              1,
              "#f0f921"
             ]
            ],
            "type": "surface"
           }
          ],
          "table": [
           {
            "cells": {
             "fill": {
              "color": "#EBF0F8"
             },
             "line": {
              "color": "white"
             }
            },
            "header": {
             "fill": {
              "color": "#C8D4E3"
             },
             "line": {
              "color": "white"
             }
            },
            "type": "table"
           }
          ]
         },
         "layout": {
          "annotationdefaults": {
           "arrowcolor": "#2a3f5f",
           "arrowhead": 0,
           "arrowwidth": 1
          },
          "autotypenumbers": "strict",
          "coloraxis": {
           "colorbar": {
            "outlinewidth": 0,
            "ticks": ""
           }
          },
          "colorscale": {
           "diverging": [
            [
             0,
             "#8e0152"
            ],
            [
             0.1,
             "#c51b7d"
            ],
            [
             0.2,
             "#de77ae"
            ],
            [
             0.3,
             "#f1b6da"
            ],
            [
             0.4,
             "#fde0ef"
            ],
            [
             0.5,
             "#f7f7f7"
            ],
            [
             0.6,
             "#e6f5d0"
            ],
            [
             0.7,
             "#b8e186"
            ],
            [
             0.8,
             "#7fbc41"
            ],
            [
             0.9,
             "#4d9221"
            ],
            [
             1,
             "#276419"
            ]
           ],
           "sequential": [
            [
             0,
             "#0d0887"
            ],
            [
             0.1111111111111111,
             "#46039f"
            ],
            [
             0.2222222222222222,
             "#7201a8"
            ],
            [
             0.3333333333333333,
             "#9c179e"
            ],
            [
             0.4444444444444444,
             "#bd3786"
            ],
            [
             0.5555555555555556,
             "#d8576b"
            ],
            [
             0.6666666666666666,
             "#ed7953"
            ],
            [
             0.7777777777777778,
             "#fb9f3a"
            ],
            [
             0.8888888888888888,
             "#fdca26"
            ],
            [
             1,
             "#f0f921"
            ]
           ],
           "sequentialminus": [
            [
             0,
             "#0d0887"
            ],
            [
             0.1111111111111111,
             "#46039f"
            ],
            [
             0.2222222222222222,
             "#7201a8"
            ],
            [
             0.3333333333333333,
             "#9c179e"
            ],
            [
             0.4444444444444444,
             "#bd3786"
            ],
            [
             0.5555555555555556,
             "#d8576b"
            ],
            [
             0.6666666666666666,
             "#ed7953"
            ],
            [
             0.7777777777777778,
             "#fb9f3a"
            ],
            [
             0.8888888888888888,
             "#fdca26"
            ],
            [
             1,
             "#f0f921"
            ]
           ]
          },
          "colorway": [
           "#636efa",
           "#EF553B",
           "#00cc96",
           "#ab63fa",
           "#FFA15A",
           "#19d3f3",
           "#FF6692",
           "#B6E880",
           "#FF97FF",
           "#FECB52"
          ],
          "font": {
           "color": "#2a3f5f"
          },
          "geo": {
           "bgcolor": "white",
           "lakecolor": "white",
           "landcolor": "#E5ECF6",
           "showlakes": true,
           "showland": true,
           "subunitcolor": "white"
          },
          "hoverlabel": {
           "align": "left"
          },
          "hovermode": "closest",
          "mapbox": {
           "style": "light"
          },
          "paper_bgcolor": "white",
          "plot_bgcolor": "#E5ECF6",
          "polar": {
           "angularaxis": {
            "gridcolor": "white",
            "linecolor": "white",
            "ticks": ""
           },
           "bgcolor": "#E5ECF6",
           "radialaxis": {
            "gridcolor": "white",
            "linecolor": "white",
            "ticks": ""
           }
          },
          "scene": {
           "xaxis": {
            "backgroundcolor": "#E5ECF6",
            "gridcolor": "white",
            "gridwidth": 2,
            "linecolor": "white",
            "showbackground": true,
            "ticks": "",
            "zerolinecolor": "white"
           },
           "yaxis": {
            "backgroundcolor": "#E5ECF6",
            "gridcolor": "white",
            "gridwidth": 2,
            "linecolor": "white",
            "showbackground": true,
            "ticks": "",
            "zerolinecolor": "white"
           },
           "zaxis": {
            "backgroundcolor": "#E5ECF6",
            "gridcolor": "white",
            "gridwidth": 2,
            "linecolor": "white",
            "showbackground": true,
            "ticks": "",
            "zerolinecolor": "white"
           }
          },
          "shapedefaults": {
           "line": {
            "color": "#2a3f5f"
           }
          },
          "ternary": {
           "aaxis": {
            "gridcolor": "white",
            "linecolor": "white",
            "ticks": ""
           },
           "baxis": {
            "gridcolor": "white",
            "linecolor": "white",
            "ticks": ""
           },
           "bgcolor": "#E5ECF6",
           "caxis": {
            "gridcolor": "white",
            "linecolor": "white",
            "ticks": ""
           }
          },
          "title": {
           "x": 0.05
          },
          "xaxis": {
           "automargin": true,
           "gridcolor": "white",
           "linecolor": "white",
           "ticks": "",
           "title": {
            "standoff": 15
           },
           "zerolinecolor": "white",
           "zerolinewidth": 2
          },
          "yaxis": {
           "automargin": true,
           "gridcolor": "white",
           "linecolor": "white",
           "ticks": "",
           "title": {
            "standoff": 15
           },
           "zerolinecolor": "white",
           "zerolinewidth": 2
          }
         }
        },
        "xaxis": {
         "anchor": "y",
         "domain": [
          0,
          1
         ],
         "title": {
          "text": "Year"
         }
        },
        "yaxis": {
         "anchor": "x",
         "domain": [
          0,
          1
         ],
         "title": {
          "text": "wages per month"
         }
        }
       }
      }
     },
     "metadata": {},
     "output_type": "display_data"
    }
   ],
   "source": [
    "px.strip(wages_women_Cyprus, x = 'Year', y = 'wages per month',color = 'Coverage',hover_name= 'Country')"
   ]
  },
  {
   "cell_type": "code",
   "execution_count": 92,
   "metadata": {},
   "outputs": [
    {
     "data": {
      "text/html": [
       "<div>\n",
       "<style scoped>\n",
       "    .dataframe tbody tr th:only-of-type {\n",
       "        vertical-align: middle;\n",
       "    }\n",
       "\n",
       "    .dataframe tbody tr th {\n",
       "        vertical-align: top;\n",
       "    }\n",
       "\n",
       "    .dataframe thead th {\n",
       "        text-align: right;\n",
       "    }\n",
       "</style>\n",
       "<table border=\"1\" class=\"dataframe\">\n",
       "  <thead>\n",
       "    <tr style=\"text-align: right;\">\n",
       "      <th></th>\n",
       "      <th>Country</th>\n",
       "      <th>Year</th>\n",
       "      <th>wages per month</th>\n",
       "      <th>Source</th>\n",
       "      <th>Coverage</th>\n",
       "      <th>Classification</th>\n",
       "      <th>Subclassification</th>\n",
       "      <th>SourceID</th>\n",
       "    </tr>\n",
       "  </thead>\n",
       "  <tbody>\n",
       "    <tr>\n",
       "      <th>596</th>\n",
       "      <td>Cyprus</td>\n",
       "      <td>2006</td>\n",
       "      <td>1034.73</td>\n",
       "      <td>Labour-related establishment survey</td>\n",
       "      <td>Salaried employees</td>\n",
       "      <td>ISIC-Rev.3</td>\n",
       "      <td>Total.</td>\n",
       "      <td># 0</td>\n",
       "    </tr>\n",
       "    <tr>\n",
       "      <th>605</th>\n",
       "      <td>Cyprus</td>\n",
       "      <td>2005</td>\n",
       "      <td>1003.15</td>\n",
       "      <td>Labour-related establishment survey</td>\n",
       "      <td>Salaried employees</td>\n",
       "      <td>ISIC-Rev.3</td>\n",
       "      <td>Total.</td>\n",
       "      <td># 0</td>\n",
       "    </tr>\n",
       "    <tr>\n",
       "      <th>620</th>\n",
       "      <td>Cyprus</td>\n",
       "      <td>2004</td>\n",
       "      <td>956.87</td>\n",
       "      <td>Labour-related establishment survey</td>\n",
       "      <td>Salaried employees</td>\n",
       "      <td>ISIC-Rev.3</td>\n",
       "      <td>Total.</td>\n",
       "      <td># 0</td>\n",
       "    </tr>\n",
       "    <tr>\n",
       "      <th>629</th>\n",
       "      <td>Cyprus</td>\n",
       "      <td>2003</td>\n",
       "      <td>933.30</td>\n",
       "      <td>Labour-related establishment survey</td>\n",
       "      <td>Salaried employees</td>\n",
       "      <td>ISIC-Rev.3</td>\n",
       "      <td>Total.</td>\n",
       "      <td># 0</td>\n",
       "    </tr>\n",
       "    <tr>\n",
       "      <th>644</th>\n",
       "      <td>Cyprus</td>\n",
       "      <td>2002</td>\n",
       "      <td>875.02</td>\n",
       "      <td>Labour-related establishment survey</td>\n",
       "      <td>Salaried employees</td>\n",
       "      <td>ISIC-Rev.3</td>\n",
       "      <td>Total.</td>\n",
       "      <td># 0</td>\n",
       "    </tr>\n",
       "  </tbody>\n",
       "</table>\n",
       "</div>"
      ],
      "text/plain": [
       "    Country  Year  wages per month                               Source  \\\n",
       "596  Cyprus  2006          1034.73  Labour-related establishment survey   \n",
       "605  Cyprus  2005          1003.15  Labour-related establishment survey   \n",
       "620  Cyprus  2004           956.87  Labour-related establishment survey   \n",
       "629  Cyprus  2003           933.30  Labour-related establishment survey   \n",
       "644  Cyprus  2002           875.02  Labour-related establishment survey   \n",
       "\n",
       "               Coverage Classification Subclassification SourceID  \n",
       "596  Salaried employees     ISIC-Rev.3            Total.      # 0  \n",
       "605  Salaried employees     ISIC-Rev.3            Total.      # 0  \n",
       "620  Salaried employees     ISIC-Rev.3            Total.      # 0  \n",
       "629  Salaried employees     ISIC-Rev.3            Total.      # 0  \n",
       "644  Salaried employees     ISIC-Rev.3            Total.      # 0  "
      ]
     },
     "execution_count": 92,
     "metadata": {},
     "output_type": "execute_result"
    }
   ],
   "source": [
    "wages_women_Cyprus.head()"
   ]
  },
  {
   "cell_type": "code",
   "execution_count": 87,
   "metadata": {},
   "outputs": [
    {
     "data": {
      "text/plain": [
       "<matplotlib.legend.Legend at 0x7f72b5999610>"
      ]
     },
     "execution_count": 87,
     "metadata": {},
     "output_type": "execute_result"
    },
    {
     "data": {
      "image/png": "[encoded data removed]",
      "text/plain": [
       "<Figure size 640x480 with 1 Axes>"
      ]
     },
     "metadata": {},
     "output_type": "display_data"
    }
   ],
   "source": [
    "\n",
    "fig, ax1 = plt.subplots()\n",
    "\n",
    "ax1.xaxis.label.set_fontsize(10)\n",
    "ax1.yaxis.label.set_fontsize(10)\n",
    "ax1.tick_params(axis='both', which='both', labelsize=10)\n",
    "ax1.plot(wages_total_Cyprus['Year'],wages_total_Cyprus['wages per month'], markersize = 4, markeredgewidth = 0.4, label = 'total')\n",
    "\n",
    "ax1.plot(wages_men_Cyprus['Year'],wages_men_Cyprus['wages per month'], markersize = 4, markeredgewidth = 0.4, label = 'men')\n",
    "\n",
    "ax1.plot(wages_women_Cyprus['Year'],wages_women_Cyprus['wages per month'], markersize = 4, markeredgewidth = 0.4, label = 'women')\n",
    "\n",
    "plt.xlabel('Year', fontsize= 11)\n",
    "plt.ylabel('Wages Per Month',fontsize=11)\n",
    "\n",
    "plt.legend(fontsize=11)\n",
    "\n"
   ]
  },
  {
   "cell_type": "code",
   "execution_count": 88,
   "metadata": {},
   "outputs": [],
   "source": [
    "gdp_wage = pd.merge(gdp_df, wages_total, on = ['Country','Year'], how = 'inner')"
   ]
  },
  {
   "cell_type": "code",
   "execution_count": 89,
   "metadata": {},
   "outputs": [
    {
     "data": {
      "text/html": [
       "<div>\n",
       "<style scoped>\n",
       "    .dataframe tbody tr th:only-of-type {\n",
       "        vertical-align: middle;\n",
       "    }\n",
       "\n",
       "    .dataframe tbody tr th {\n",
       "        vertical-align: top;\n",
       "    }\n",
       "\n",
       "    .dataframe thead th {\n",
       "        text-align: right;\n",
       "    }\n",
       "</style>\n",
       "<table border=\"1\" class=\"dataframe\">\n",
       "  <thead>\n",
       "    <tr style=\"text-align: right;\">\n",
       "      <th></th>\n",
       "      <th>Gdp_Per_Capita</th>\n",
       "      <th>wages per month</th>\n",
       "    </tr>\n",
       "  </thead>\n",
       "  <tbody>\n",
       "    <tr>\n",
       "      <th>Gdp_Per_Capita</th>\n",
       "      <td>1.000000</td>\n",
       "      <td>0.108454</td>\n",
       "    </tr>\n",
       "    <tr>\n",
       "      <th>wages per month</th>\n",
       "      <td>0.108454</td>\n",
       "      <td>1.000000</td>\n",
       "    </tr>\n",
       "  </tbody>\n",
       "</table>\n",
       "</div>"
      ],
      "text/plain": [
       "                 Gdp_Per_Capita  wages per month\n",
       "Gdp_Per_Capita         1.000000         0.108454\n",
       "wages per month        0.108454         1.000000"
      ]
     },
     "execution_count": 89,
     "metadata": {},
     "output_type": "execute_result"
    }
   ],
   "source": [
    "gdp_wage[['Gdp_Per_Capita','wages per month']].corr()"
   ]
  },
  {
   "cell_type": "code",
   "execution_count": 90,
   "metadata": {},
   "outputs": [
    {
     "data": {
      "application/vnd.plotly.v1+json": {
       "config": {
        "plotlyServerURL": "https://plot.ly"
       },
       "data": [
        {
         "coloraxis": "coloraxis",
         "histfunc": "avg",
         "hovertemplate": "Country=%{x}<br>Year=%{y}<br>avg of Gdp_Per_Capita=%{z}<extra></extra>",
         "name": "",
         "type": "histogram2d",
         "x": [
          "Armenia",
          "Armenia",
          "Armenia",
          "Armenia",
          "Armenia",
          "Armenia",
          "Armenia",
          "Armenia",
          "Armenia",
          "Armenia",
          "Armenia",
          "Armenia",
          "Armenia",
          "Armenia",
          "Armenia",
          "Armenia",
          "Armenia",
          "Armenia",
          "Armenia",
          "Austria",
          "Austria",
          "Austria",
          "Austria",
          "Austria",
          "Austria",
          "Austria",
          "Austria",
          "Austria",
          "Austria",
          "Austria",
          "Austria",
          "Azerbaijan",
          "Azerbaijan",
          "Azerbaijan",
          "Azerbaijan",
          "Azerbaijan",
          "Azerbaijan",
          "Azerbaijan",
          "Azerbaijan",
          "Azerbaijan",
          "Azerbaijan",
          "Azerbaijan",
          "Bahrain",
          "Bahrain",
          "Bahrain",
          "Bahrain",
          "Bahrain",
          "Bahrain",
          "Bahrain",
          "Bahrain",
          "Bahrain",
          "Bahrain",
          "Bahrain",
          "Bahrain",
          "Bahrain",
          "Bahrain",
          "Bahrain",
          "Bahrain",
          "Belarus",
          "Belarus",
          "Belarus",
          "Belarus",
          "Belarus",
          "Belarus",
          "Belarus",
          "Belarus",
          "Belarus",
          "Belarus",
          "Belarus",
          "Belarus",
          "Belarus",
          "Belarus",
          "Belarus",
          "Belarus",
          "Belarus",
          "Belarus",
          "Belarus",
          "Belarus",
          "Belarus",
          "Belarus",
          "Belarus",
          "Belarus",
          "Belarus",
          "Belarus",
          "Belarus",
          "Belarus",
          "Belarus",
          "Bermuda",
          "Bermuda",
          "Bermuda",
          "Bermuda",
          "Bosnia and Herzegovina",
          "Bosnia and Herzegovina",
          "Bosnia and Herzegovina",
          "Bosnia and Herzegovina",
          "Bosnia and Herzegovina",
          "Bosnia and Herzegovina",
          "Bosnia and Herzegovina",
          "Bosnia and Herzegovina",
          "Botswana",
          "Botswana",
          "Botswana",
          "Botswana",
          "Botswana",
          "Botswana",
          "Botswana",
          "Botswana",
          "Botswana",
          "Botswana",
          "Botswana",
          "Botswana",
          "Botswana",
          "Botswana",
          "Botswana",
          "Botswana",
          "Botswana",
          "Brazil",
          "Brazil",
          "Brazil",
          "Brazil",
          "Brazil",
          "Brazil",
          "Brazil",
          "Brazil",
          "Brazil",
          "Bulgaria",
          "Bulgaria",
          "Bulgaria",
          "Bulgaria",
          "Bulgaria",
          "Bulgaria",
          "Bulgaria",
          "Bulgaria",
          "Bulgaria",
          "Bulgaria",
          "Bulgaria",
          "Bulgaria",
          "Bulgaria",
          "Bulgaria",
          "Bulgaria",
          "Bulgaria",
          "Bulgaria",
          "Canada",
          "Canada",
          "Canada",
          "Canada",
          "Canada",
          "Canada",
          "Canada",
          "Canada",
          "Canada",
          "Canada",
          "Canada",
          "Canada",
          "Canada",
          "Canada",
          "Canada",
          "Canada",
          "Canada",
          "Canada",
          "Canada",
          "Canada",
          "Canada",
          "Canada",
          "Canada",
          "Canada",
          "China",
          "China",
          "China",
          "China",
          "China",
          "China",
          "China",
          "China",
          "China",
          "China",
          "China",
          "China",
          "China",
          "China",
          "China",
          "China",
          "China",
          "China",
          "China",
          "Colombia",
          "Colombia",
          "Colombia",
          "Colombia",
          "Colombia",
          "Colombia",
          "Colombia",
          "Colombia",
          "Colombia",
          "Colombia",
          "Colombia",
          "Colombia",
          "Colombia",
          "Colombia",
          "Colombia",
          "Colombia",
          "Colombia",
          "Colombia",
          "Colombia",
          "Colombia",
          "Colombia",
          "Colombia",
          "Colombia",
          "Colombia",
          "Colombia",
          "Costa Rica",
          "Costa Rica",
          "Costa Rica",
          "Costa Rica",
          "Costa Rica",
          "Costa Rica",
          "Costa Rica",
          "Costa Rica",
          "Costa Rica",
          "Costa Rica",
          "Costa Rica",
          "Costa Rica",
          "Costa Rica",
          "Costa Rica",
          "Costa Rica",
          "Costa Rica",
          "Costa Rica",
          "Costa Rica",
          "Costa Rica",
          "Costa Rica",
          "Costa Rica",
          "Costa Rica",
          "Costa Rica",
          "Croatia",
          "Croatia",
          "Croatia",
          "Croatia",
          "Croatia",
          "Croatia",
          "Croatia",
          "Croatia",
          "Croatia",
          "Croatia",
          "Croatia",
          "Croatia",
          "Croatia",
          "Croatia",
          "Cyprus",
          "Cyprus",
          "Cyprus",
          "Cyprus",
          "Cyprus",
          "Cyprus",
          "Cyprus",
          "Cyprus",
          "Cyprus",
          "Cyprus",
          "Cyprus",
          "Cyprus",
          "Cyprus",
          "Cyprus",
          "Cyprus",
          "Cyprus",
          "Cyprus",
          "Cyprus",
          "Cyprus",
          "Cyprus",
          "Cyprus",
          "Cyprus",
          "Cyprus",
          "Cyprus",
          "Cyprus",
          "Cyprus",
          "Cyprus",
          "Cyprus",
          "Cyprus",
          "Cyprus",
          "Cyprus",
          "Cyprus",
          "Cyprus",
          "Cyprus",
          "Cyprus",
          "Cyprus",
          "Cyprus",
          "Cyprus",
          "Cyprus",
          "Cyprus",
          "Cyprus",
          "Cyprus",
          "Cyprus",
          "Cyprus",
          "Cyprus",
          "Cyprus",
          "Cyprus",
          "Cyprus",
          "Cyprus",
          "Cyprus",
          "Cyprus",
          "Cyprus",
          "Cyprus",
          "Czech Republic",
          "Czech Republic",
          "Czech Republic",
          "Czech Republic",
          "Czech Republic",
          "Czech Republic",
          "Czech Republic",
          "Czech Republic",
          "Czech Republic",
          "Czech Republic",
          "Czech Republic",
          "Czech Republic",
          "Czech Republic",
          "Czech Republic",
          "Czech Republic",
          "Czech Republic",
          "Czech Republic",
          "Czech Republic",
          "Czech Republic",
          "Czech Republic",
          "Czech Republic",
          "Czech Republic",
          "Czech Republic",
          "Czech Republic",
          "Czech Republic",
          "Czech Republic",
          "Czech Republic",
          "Dominican Republic",
          "Dominican Republic",
          "Dominican Republic",
          "Dominican Republic",
          "Dominican Republic",
          "Dominican Republic",
          "Dominican Republic",
          "Dominican Republic",
          "Dominican Republic",
          "Dominican Republic",
          "Dominican Republic",
          "Dominican Republic",
          "Dominican Republic",
          "Dominican Republic",
          "Dominican Republic",
          "Dominican Republic",
          "Egypt",
          "Egypt",
          "Egypt",
          "Egypt",
          "Egypt",
          "Egypt",
          "Egypt",
          "Egypt",
          "Egypt",
          "Egypt",
          "Egypt",
          "Egypt",
          "El Salvador",
          "El Salvador",
          "El Salvador",
          "El Salvador",
          "El Salvador",
          "El Salvador",
          "El Salvador",
          "El Salvador",
          "El Salvador",
          "Estonia",
          "Estonia",
          "Estonia",
          "Estonia",
          "Estonia",
          "Estonia",
          "Estonia",
          "Estonia",
          "Estonia",
          "Estonia",
          "Estonia",
          "Estonia",
          "Estonia",
          "Estonia",
          "Fiji",
          "Fiji",
          "Fiji",
          "Fiji",
          "Fiji",
          "Fiji",
          "Fiji",
          "Fiji",
          "Fiji",
          "Fiji",
          "Fiji",
          "Fiji",
          "Fiji",
          "France",
          "France",
          "France",
          "France",
          "France",
          "France",
          "Georgia",
          "Georgia",
          "Georgia",
          "Georgia",
          "Georgia",
          "Georgia",
          "Georgia",
          "Georgia",
          "Georgia",
          "Georgia",
          "Georgia",
          "Ghana",
          "Ghana",
          "Guatemala",
          "Guatemala",
          "Guatemala",
          "Guatemala",
          "Guatemala",
          "Guatemala",
          "Guatemala",
          "Guatemala",
          "Guatemala",
          "Guatemala",
          "Guatemala",
          "Guatemala",
          "Guatemala",
          "Guatemala",
          "Guatemala",
          "Guatemala",
          "Guatemala",
          "Guatemala",
          "Guatemala",
          "Guyana",
          "Guyana",
          "Guyana",
          "Guyana",
          "Honduras",
          "Hungary",
          "Hungary",
          "Hungary",
          "Hungary",
          "Hungary",
          "Hungary",
          "Hungary",
          "Hungary",
          "Hungary",
          "Hungary",
          "Hungary",
          "Hungary",
          "Hungary",
          "Hungary",
          "Hungary",
          "Hungary",
          "Hungary",
          "Indonesia",
          "Indonesia",
          "Indonesia",
          "Indonesia",
          "Indonesia",
          "Indonesia",
          "Indonesia",
          "Indonesia",
          "Indonesia",
          "Indonesia",
          "Israel",
          "Israel",
          "Israel",
          "Israel",
          "Israel",
          "Israel",
          "Israel",
          "Israel",
          "Israel",
          "Israel",
          "Israel",
          "Israel",
          "Israel",
          "Israel",
          "Israel",
          "Israel",
          "Italy",
          "Italy",
          "Italy",
          "Italy",
          "Italy",
          "Italy",
          "Italy",
          "Italy",
          "Italy",
          "Italy",
          "Italy",
          "Italy",
          "Italy",
          "Italy",
          "Italy",
          "Italy",
          "Italy",
          "Italy",
          "Italy",
          "Kazakhstan",
          "Kazakhstan",
          "Kazakhstan",
          "Kazakhstan",
          "Kazakhstan",
          "Kazakhstan",
          "Kazakhstan",
          "Kazakhstan",
          "Kazakhstan",
          "Kazakhstan",
          "Kazakhstan",
          "Kazakhstan",
          "Kazakhstan",
          "Kazakhstan",
          "Kazakhstan",
          "Latvia",
          "Latvia",
          "Latvia",
          "Latvia",
          "Latvia",
          "Latvia",
          "Latvia",
          "Latvia",
          "Latvia",
          "Latvia",
          "Latvia",
          "Latvia",
          "Latvia",
          "Latvia",
          "Lithuania",
          "Lithuania",
          "Lithuania",
          "Lithuania",
          "Lithuania",
          "Lithuania",
          "Lithuania",
          "Lithuania",
          "Lithuania",
          "Lithuania",
          "Lithuania",
          "Lithuania",
          "Lithuania",
          "Lithuania",
          "Lithuania",
          "Lithuania",
          "Lithuania",
          "Lithuania",
          "Lithuania",
          "Lithuania",
          "Lithuania",
          "Lithuania",
          "Lithuania",
          "Lithuania",
          "Lithuania",
          "Lithuania",
          "Lithuania",
          "Lithuania",
          "Lithuania",
          "Lithuania",
          "Lithuania",
          "Lithuania",
          "Lithuania",
          "Lithuania",
          "Lithuania",
          "Lithuania",
          "Lithuania",
          "Lithuania",
          "Lithuania",
          "Lithuania",
          "Lithuania",
          "Lithuania",
          "Lithuania",
          "Lithuania",
          "Lithuania",
          "Lithuania",
          "Lithuania",
          "Lithuania",
          "Lithuania",
          "Lithuania",
          "Lithuania",
          "Madagascar",
          "Malta",
          "Malta",
          "Malta",
          "Malta",
          "Malta",
          "Malta",
          "Malta",
          "Malta",
          "Malta",
          "Mauritius",
          "Mauritius",
          "Mauritius",
          "Mauritius",
          "Mauritius",
          "Mauritius",
          "Mauritius",
          "Mauritius",
          "Mauritius",
          "Mauritius",
          "Mauritius",
          "Mauritius",
          "Mauritius",
          "Mauritius",
          "Mauritius",
          "Mauritius",
          "Mauritius",
          "Mauritius",
          "Mauritius",
          "Mauritius",
          "Mauritius",
          "Mauritius",
          "Mauritius",
          "Mauritius",
          "Mauritius",
          "Mauritius",
          "Mauritius",
          "Mauritius",
          "Mauritius",
          "Mauritius",
          "Mauritius",
          "Mauritius",
          "Mexico",
          "Mexico",
          "Mexico",
          "Mexico",
          "Mexico",
          "Mexico",
          "Mexico",
          "Mexico",
          "Mexico",
          "Mexico",
          "Mexico",
          "Mexico",
          "Mexico",
          "Mexico",
          "Mexico",
          "Mexico",
          "Mexico",
          "Mexico",
          "Mexico",
          "Mexico",
          "Mexico",
          "Mexico",
          "Mexico",
          "Mexico",
          "Mexico",
          "Mexico",
          "Mexico",
          "Mexico",
          "Mexico",
          "Mexico",
          "Mexico",
          "Mexico",
          "Mexico",
          "Mexico",
          "Mexico",
          "Mexico",
          "Mexico",
          "Mexico",
          "Mexico",
          "Mexico",
          "Mongolia",
          "Mongolia",
          "Mongolia",
          "Mongolia",
          "Mongolia",
          "Mongolia",
          "Mongolia",
          "Mongolia",
          "Mongolia",
          "Montenegro",
          "Montenegro",
          "Namibia",
          "Nepal",
          "Netherlands",
          "Netherlands",
          "Netherlands",
          "Netherlands",
          "Netherlands",
          "Netherlands",
          "Netherlands",
          "Netherlands",
          "Netherlands",
          "Netherlands",
          "Netherlands",
          "Netherlands",
          "Netherlands",
          "Netherlands",
          "Netherlands",
          "Netherlands",
          "Netherlands",
          "Netherlands",
          "Netherlands",
          "Netherlands",
          "Netherlands",
          "Netherlands",
          "Netherlands",
          "Netherlands",
          "Nicaragua",
          "Nicaragua",
          "Nicaragua",
          "Nicaragua",
          "Nicaragua",
          "Nicaragua",
          "Nicaragua",
          "Nicaragua",
          "Nicaragua",
          "Nicaragua",
          "Nicaragua",
          "Nicaragua",
          "Nicaragua",
          "Nicaragua",
          "Nicaragua",
          "Nicaragua",
          "Nicaragua",
          "Nicaragua",
          "Nicaragua",
          "Nicaragua",
          "Nicaragua",
          "Nicaragua",
          "Panama",
          "Panama",
          "Panama",
          "Panama",
          "Panama",
          "Panama",
          "Panama",
          "Panama",
          "Panama",
          "Paraguay",
          "Paraguay",
          "Paraguay",
          "Paraguay",
          "Paraguay",
          "Paraguay",
          "Paraguay",
          "Paraguay",
          "Paraguay",
          "Paraguay",
          "Paraguay",
          "Peru",
          "Peru",
          "Peru",
          "Peru",
          "Peru",
          "Peru",
          "Peru",
          "Peru",
          "Peru",
          "Peru",
          "Peru",
          "Peru",
          "Peru",
          "Peru",
          "Philippines",
          "Philippines",
          "Philippines",
          "Philippines",
          "Philippines",
          "Philippines",
          "Philippines",
          "Philippines",
          "Philippines",
          "Philippines",
          "Philippines",
          "Philippines",
          "Philippines",
          "Philippines",
          "Philippines",
          "Philippines",
          "Philippines",
          "Philippines",
          "Philippines",
          "Philippines",
          "Philippines",
          "Philippines",
          "Philippines",
          "Philippines",
          "Philippines",
          "Philippines",
          "Philippines",
          "Philippines",
          "Poland",
          "Poland",
          "Poland",
          "Poland",
          "Poland",
          "Poland",
          "Poland",
          "Poland",
          "Poland",
          "Poland",
          "Poland",
          "Poland",
          "Poland",
          "Poland",
          "Poland",
          "Poland",
          "Qatar",
          "Qatar",
          "Qatar",
          "Qatar",
          "Romania",
          "Romania",
          "Romania",
          "Romania",
          "Romania",
          "Romania",
          "Romania",
          "Romania",
          "Romania",
          "Romania",
          "Romania",
          "Romania",
          "Romania",
          "Romania",
          "Romania",
          "Romania",
          "San Marino",
          "San Marino",
          "San Marino",
          "San Marino",
          "San Marino",
          "San Marino",
          "San Marino",
          "San Marino",
          "San Marino",
          "Serbia",
          "Serbia",
          "Serbia",
          "Serbia",
          "Serbia",
          "Serbia",
          "Seychelles",
          "Seychelles",
          "Seychelles",
          "Seychelles",
          "Seychelles",
          "Seychelles",
          "Seychelles",
          "Seychelles",
          "Seychelles",
          "Seychelles",
          "Seychelles",
          "Seychelles",
          "Seychelles",
          "Seychelles",
          "Seychelles",
          "Seychelles",
          "Seychelles",
          "Seychelles",
          "Seychelles",
          "Seychelles",
          "Seychelles",
          "Seychelles",
          "Seychelles",
          "Seychelles",
          "Seychelles",
          "Seychelles",
          "Seychelles",
          "Seychelles",
          "Seychelles",
          "Singapore",
          "Singapore",
          "Singapore",
          "Singapore",
          "Singapore",
          "Singapore",
          "Singapore",
          "Singapore",
          "Singapore",
          "Singapore",
          "Singapore",
          "Slovenia",
          "Slovenia",
          "Slovenia",
          "Slovenia",
          "Slovenia",
          "Slovenia",
          "Slovenia",
          "Slovenia",
          "Slovenia",
          "Slovenia",
          "Slovenia",
          "Slovenia",
          "Slovenia",
          "Slovenia",
          "Sri Lanka",
          "Sri Lanka",
          "Sri Lanka",
          "Sri Lanka",
          "Sri Lanka",
          "Sri Lanka",
          "Sri Lanka",
          "Sri Lanka",
          "Sri Lanka",
          "Sri Lanka",
          "Sri Lanka",
          "Sri Lanka",
          "Sri Lanka",
          "Sri Lanka",
          "Sri Lanka",
          "Sri Lanka",
          "Sri Lanka",
          "Sri Lanka",
          "Sri Lanka",
          "Sri Lanka",
          "Sri Lanka",
          "Sri Lanka",
          "Sri Lanka",
          "Sri Lanka",
          "Sweden",
          "Sweden",
          "Sweden",
          "Sweden",
          "Sweden",
          "Sweden",
          "Sweden",
          "Sweden",
          "Sweden",
          "Sweden",
          "Sweden",
          "Sweden",
          "Sweden",
          "Sweden",
          "Sweden",
          "Sweden",
          "Tajikistan",
          "Tajikistan",
          "Tajikistan",
          "Tajikistan",
          "Tajikistan",
          "Tajikistan",
          "Tajikistan",
          "Tajikistan",
          "Tajikistan",
          "Tajikistan",
          "Tajikistan",
          "Tajikistan",
          "Tajikistan",
          "Tajikistan",
          "Tajikistan",
          "Thailand",
          "Thailand",
          "Thailand",
          "Thailand",
          "Thailand",
          "Thailand",
          "Tonga",
          "Tonga",
          "Turkmenistan",
          "Turkmenistan",
          "Turkmenistan",
          "Turkmenistan",
          "Ukraine",
          "Ukraine",
          "Ukraine",
          "Ukraine",
          "Ukraine",
          "Ukraine",
          "Ukraine",
          "Ukraine",
          "Ukraine",
          "Ukraine",
          "Ukraine",
          "Ukraine",
          "Ukraine",
          "Ukraine",
          "Ukraine",
          "Ukraine",
          "Ukraine",
          "Ukraine",
          "Ukraine",
          "Ukraine",
          "Ukraine",
          "Ukraine",
          "Ukraine",
          "Ukraine",
          "Ukraine",
          "Ukraine",
          "United Kingdom",
          "United Kingdom",
          "United Kingdom",
          "United Kingdom",
          "United Kingdom",
          "United Kingdom",
          "United Kingdom",
          "United Kingdom",
          "United Kingdom",
          "United Kingdom",
          "United Kingdom",
          "United Kingdom",
          "United Kingdom",
          "United Kingdom",
          "United Kingdom",
          "United Kingdom",
          "United Kingdom",
          "United Kingdom",
          "United Kingdom",
          "United Kingdom",
          "United Kingdom",
          "United Kingdom",
          "United Kingdom",
          "United Kingdom",
          "United Kingdom",
          "United Kingdom",
          "United Kingdom",
          "United Kingdom",
          "United Kingdom",
          "United Kingdom",
          "United Kingdom",
          "United Kingdom",
          "United Kingdom",
          "United Kingdom",
          "United Kingdom",
          "United Kingdom",
          "United Kingdom",
          "United Kingdom",
          "United Kingdom",
          "United Kingdom",
          "United Kingdom",
          "United Kingdom",
          "United Kingdom",
          "United Kingdom",
          "United Kingdom",
          "United Kingdom",
          "United Kingdom",
          "United Kingdom",
          "United Kingdom",
          "United Kingdom",
          "United Kingdom",
          "United Kingdom",
          "United Kingdom",
          "United Kingdom",
          "United Kingdom",
          "United Kingdom",
          "United Kingdom",
          "United Kingdom",
          "United Kingdom",
          "United Kingdom",
          "United Kingdom",
          "United Kingdom",
          "United Kingdom",
          "United Kingdom",
          "United Kingdom",
          "United Kingdom",
          "United Kingdom",
          "United Kingdom",
          "United Kingdom",
          "United Kingdom",
          "United Kingdom",
          "United Kingdom",
          "United Kingdom",
          "United Kingdom",
          "United Kingdom",
          "United Kingdom",
          "United States",
          "United States",
          "United States",
          "United States",
          "United States",
          "United States",
          "United States",
          "United States",
          "United States",
          "United States",
          "United States",
          "United States",
          "United States",
          "United States",
          "United States",
          "United States",
          "Uruguay",
          "Uruguay",
          "Uzbekistan",
          "Uzbekistan",
          "Uzbekistan",
          "Uzbekistan",
          "Uzbekistan",
          "Uzbekistan",
          "Uzbekistan",
          "Uzbekistan",
          "Uzbekistan",
          "Uzbekistan"
         ],
         "xaxis": "x",
         "xbingroup": "x",
         "y": [
          2008,
          2007,
          2006,
          2005,
          2004,
          2003,
          2002,
          2001,
          2000,
          1999,
          1998,
          1997,
          1996,
          1995,
          1994,
          1993,
          1992,
          1991,
          1990,
          2003,
          2003,
          2003,
          2002,
          2002,
          2002,
          2001,
          2001,
          2001,
          2000,
          2000,
          2000,
          2008,
          2007,
          2006,
          2005,
          2004,
          2003,
          2002,
          2001,
          2000,
          1999,
          1998,
          2008,
          2007,
          2006,
          2005,
          2004,
          2003,
          2002,
          2001,
          2000,
          1999,
          1998,
          1994,
          1993,
          1992,
          1991,
          1990,
          2008,
          2007,
          2006,
          2005,
          2004,
          2004,
          2003,
          2003,
          2002,
          2002,
          2001,
          2001,
          2000,
          2000,
          1999,
          1999,
          1998,
          1998,
          1997,
          1997,
          1996,
          1996,
          1995,
          1995,
          1994,
          1993,
          1992,
          1991,
          1990,
          2007,
          2006,
          2005,
          2004,
          2006,
          2005,
          2004,
          2003,
          2002,
          2001,
          2000,
          1999,
          2006,
          2005,
          2004,
          2003,
          2002,
          2000,
          1999,
          1998,
          1997,
          1997,
          1996,
          1995,
          1994,
          1993,
          1992,
          1991,
          1990,
          2002,
          2001,
          2000,
          1999,
          1998,
          1997,
          1996,
          1995,
          1994,
          2008,
          2008,
          2007,
          2007,
          2006,
          2006,
          2005,
          2005,
          2004,
          2003,
          2002,
          2001,
          2000,
          1999,
          1998,
          1997,
          1996,
          2008,
          2008,
          2007,
          2007,
          2006,
          2006,
          2005,
          2005,
          2004,
          2004,
          2003,
          2003,
          2002,
          2002,
          2001,
          2001,
          2000,
          2000,
          1999,
          1999,
          1998,
          1998,
          1997,
          1997,
          2008,
          2007,
          2006,
          2005,
          2004,
          2003,
          2002,
          2001,
          2000,
          1999,
          1998,
          1997,
          1996,
          1995,
          1994,
          1993,
          1992,
          1991,
          1990,
          2007,
          2006,
          2005,
          2004,
          2003,
          2002,
          2000,
          1999,
          1999,
          1998,
          1998,
          1997,
          1997,
          1996,
          1996,
          1995,
          1995,
          1994,
          1994,
          1993,
          1993,
          1992,
          1992,
          1991,
          1991,
          2008,
          2008,
          2007,
          2006,
          2005,
          2005,
          2004,
          2004,
          2003,
          2002,
          2001,
          2001,
          2000,
          1999,
          1998,
          1997,
          1996,
          1995,
          1994,
          1993,
          1992,
          1991,
          1990,
          2007,
          2006,
          2005,
          2004,
          2003,
          2002,
          2001,
          2000,
          1999,
          1998,
          1997,
          1996,
          1996,
          1995,
          2006,
          2006,
          2006,
          2006,
          2005,
          2005,
          2005,
          2005,
          2004,
          2004,
          2004,
          2004,
          2003,
          2003,
          2003,
          2003,
          2002,
          2002,
          2002,
          2002,
          2001,
          2001,
          2001,
          2001,
          2000,
          2000,
          2000,
          1999,
          1999,
          1999,
          1998,
          1998,
          1998,
          1997,
          1997,
          1997,
          1997,
          1996,
          1996,
          1996,
          1996,
          1995,
          1995,
          1994,
          1994,
          1993,
          1993,
          1992,
          1992,
          1991,
          1991,
          1990,
          1990,
          2007,
          2006,
          2005,
          2004,
          2004,
          2003,
          2003,
          2002,
          2002,
          2001,
          2001,
          2000,
          2000,
          1999,
          1999,
          1998,
          1998,
          1997,
          1997,
          1996,
          1996,
          1995,
          1994,
          1993,
          1992,
          1991,
          1990,
          2004,
          2003,
          2002,
          2001,
          2000,
          1999,
          1998,
          1997,
          1997,
          1996,
          1996,
          1995,
          1994,
          1993,
          1992,
          1991,
          2007,
          2006,
          2005,
          2004,
          2003,
          2002,
          2001,
          2000,
          1999,
          1998,
          1997,
          1996,
          2006,
          2005,
          2004,
          2003,
          2002,
          2001,
          2000,
          1999,
          1998,
          2008,
          2007,
          2006,
          2005,
          2004,
          2003,
          2002,
          2001,
          2000,
          1999,
          1998,
          1997,
          1996,
          1995,
          2004,
          2003,
          1999,
          1998,
          1998,
          1997,
          1997,
          1996,
          1996,
          1993,
          1993,
          1990,
          1990,
          2006,
          2005,
          2002,
          2001,
          2000,
          1999,
          2007,
          2006,
          2005,
          2004,
          2003,
          2002,
          2001,
          2000,
          1999,
          1998,
          1997,
          1991,
          1990,
          2008,
          2007,
          2006,
          2005,
          2004,
          2003,
          2002,
          2001,
          2000,
          1999,
          1998,
          1997,
          1996,
          1995,
          1994,
          1993,
          1992,
          1991,
          1990,
          2007,
          2006,
          2004,
          2003,
          2006,
          2008,
          2007,
          2006,
          2005,
          2004,
          2003,
          2002,
          2001,
          2000,
          1999,
          1998,
          1997,
          1996,
          1995,
          1994,
          1993,
          1992,
          2008,
          2007,
          2006,
          2005,
          2004,
          2003,
          2002,
          2001,
          2000,
          1999,
          2008,
          2007,
          2006,
          2006,
          2005,
          2005,
          2004,
          2003,
          2002,
          2001,
          2000,
          1999,
          1998,
          1997,
          1996,
          1995,
          2008,
          2007,
          2006,
          2005,
          2004,
          2003,
          2002,
          2001,
          2000,
          1999,
          1998,
          1997,
          1996,
          1995,
          1994,
          1993,
          1992,
          1991,
          1990,
          2008,
          2007,
          2006,
          2005,
          2004,
          2003,
          2002,
          2001,
          2000,
          1999,
          1998,
          1997,
          1996,
          1994,
          1993,
          2008,
          2007,
          2006,
          2005,
          2004,
          2003,
          2002,
          2001,
          2000,
          1999,
          1998,
          1997,
          1996,
          1995,
          2008,
          2008,
          2007,
          2007,
          2006,
          2006,
          2005,
          2005,
          2005,
          2004,
          2004,
          2004,
          2003,
          2003,
          2003,
          2003,
          2002,
          2002,
          2002,
          2002,
          2001,
          2001,
          2001,
          2001,
          2000,
          2000,
          2000,
          2000,
          1999,
          1999,
          1999,
          1999,
          1999,
          1998,
          1998,
          1998,
          1998,
          1998,
          1997,
          1997,
          1997,
          1997,
          1997,
          1996,
          1996,
          1996,
          1996,
          1995,
          1995,
          1995,
          1995,
          2005,
          2008,
          2007,
          2006,
          2005,
          2004,
          2003,
          2002,
          2001,
          2000,
          2008,
          2007,
          2006,
          2005,
          2004,
          2003,
          2002,
          2001,
          2000,
          2000,
          2000,
          1999,
          1999,
          1999,
          1998,
          1998,
          1997,
          1997,
          1996,
          1996,
          1995,
          1995,
          1994,
          1994,
          1993,
          1993,
          1992,
          1992,
          1991,
          1991,
          1990,
          1990,
          2008,
          2007,
          2006,
          2005,
          2004,
          2004,
          2003,
          2003,
          2003,
          2002,
          2002,
          2002,
          2001,
          2001,
          2001,
          2001,
          2000,
          2000,
          2000,
          2000,
          1999,
          1999,
          1999,
          1999,
          1998,
          1998,
          1998,
          1998,
          1997,
          1997,
          1997,
          1996,
          1996,
          1996,
          1995,
          1995,
          1995,
          1994,
          1993,
          1991,
          2008,
          2007,
          2006,
          2005,
          2004,
          2003,
          2002,
          2001,
          2000,
          2008,
          2007,
          1992,
          1999,
          2005,
          2005,
          2004,
          2004,
          2003,
          2003,
          2002,
          2002,
          2001,
          2001,
          2000,
          2000,
          1999,
          1999,
          1998,
          1998,
          1997,
          1997,
          1996,
          1996,
          1995,
          1995,
          1994,
          1994,
          2006,
          2005,
          2005,
          2004,
          2004,
          2003,
          2003,
          2002,
          2002,
          2001,
          2001,
          2000,
          2000,
          1999,
          1998,
          1997,
          1996,
          1995,
          1994,
          1993,
          1992,
          1991,
          2008,
          2007,
          2006,
          2005,
          2004,
          2003,
          2002,
          1999,
          1998,
          2008,
          2007,
          2003,
          2002,
          2001,
          2000,
          1999,
          1998,
          1997,
          1996,
          1995,
          2008,
          2008,
          2007,
          2007,
          2006,
          2006,
          2005,
          2005,
          2004,
          2004,
          2003,
          2003,
          2002,
          2002,
          2008,
          2007,
          2007,
          2006,
          2006,
          2005,
          2005,
          2005,
          2004,
          2004,
          2003,
          2003,
          2003,
          2002,
          2002,
          2001,
          2001,
          2001,
          1999,
          1998,
          1997,
          1996,
          1995,
          1994,
          1993,
          1992,
          1991,
          1990,
          2008,
          2007,
          2006,
          2005,
          2004,
          2003,
          2002,
          2001,
          2000,
          1999,
          1998,
          1997,
          1996,
          1995,
          1994,
          1993,
          2007,
          2006,
          2005,
          2001,
          2007,
          2006,
          2005,
          2004,
          2003,
          2002,
          2001,
          2000,
          1999,
          1998,
          1997,
          1996,
          1995,
          1994,
          1993,
          1992,
          2006,
          2005,
          2004,
          2003,
          2002,
          2001,
          1999,
          1998,
          1997,
          2008,
          2007,
          2006,
          2005,
          2004,
          2003,
          2008,
          2007,
          2006,
          2005,
          2004,
          2003,
          2002,
          2001,
          2000,
          1999,
          1999,
          1998,
          1998,
          1997,
          1997,
          1996,
          1996,
          1995,
          1995,
          1994,
          1994,
          1993,
          1993,
          1992,
          1992,
          1991,
          1991,
          1990,
          1990,
          2008,
          2007,
          2006,
          2005,
          2004,
          2003,
          2002,
          2001,
          2000,
          1999,
          1998,
          2008,
          2007,
          2006,
          2005,
          2004,
          2003,
          2002,
          2001,
          2000,
          1999,
          1998,
          1997,
          1996,
          1995,
          2008,
          2008,
          2007,
          2007,
          2006,
          2006,
          2005,
          2005,
          2004,
          2004,
          2003,
          2003,
          2002,
          2002,
          2001,
          2001,
          2000,
          2000,
          1999,
          1999,
          1998,
          1998,
          1997,
          1997,
          2008,
          2007,
          2006,
          2005,
          2004,
          2003,
          2002,
          2001,
          2000,
          1999,
          1998,
          1997,
          1996,
          1995,
          1994,
          1993,
          2007,
          2006,
          2005,
          2004,
          2003,
          2002,
          2001,
          2000,
          1997,
          1996,
          1995,
          1994,
          1993,
          1992,
          1991,
          2007,
          2006,
          2003,
          2002,
          2001,
          2000,
          1994,
          1990,
          2003,
          2002,
          2001,
          2000,
          2008,
          2007,
          2006,
          2005,
          2004,
          2003,
          2002,
          2001,
          2001,
          2000,
          2000,
          1999,
          1999,
          1998,
          1998,
          1997,
          1997,
          1996,
          1996,
          1995,
          1995,
          1994,
          1993,
          1992,
          1991,
          1990,
          2008,
          2008,
          2007,
          2007,
          2007,
          2007,
          2006,
          2006,
          2006,
          2006,
          2005,
          2005,
          2005,
          2005,
          2004,
          2004,
          2004,
          2004,
          2003,
          2003,
          2003,
          2003,
          2003,
          2003,
          2002,
          2002,
          2002,
          2002,
          2002,
          2002,
          2001,
          2001,
          2001,
          2001,
          2001,
          2001,
          2000,
          2000,
          2000,
          2000,
          2000,
          2000,
          1999,
          1999,
          1999,
          1999,
          1999,
          1999,
          1998,
          1998,
          1998,
          1998,
          1998,
          1997,
          1997,
          1997,
          1997,
          1997,
          1996,
          1996,
          1996,
          1996,
          1995,
          1995,
          1995,
          1995,
          1994,
          1994,
          1993,
          1993,
          1992,
          1992,
          1991,
          1991,
          1990,
          1990,
          2008,
          2007,
          2006,
          2005,
          2004,
          2003,
          2002,
          2001,
          2000,
          1999,
          1998,
          1997,
          1996,
          1995,
          1994,
          1993,
          2008,
          2007,
          2004,
          2003,
          2002,
          2001,
          1999,
          1998,
          1997,
          1996,
          1995,
          1994
         ],
         "yaxis": "y",
         "ybingroup": "y",
         "z": [
          10467.52981,
          9708.415397,
          8464.485726,
          7419.87119,
          6472.141999,
          5823.716093,
          5081.518558,
          4464.385831,
          4048.249904,
          3798.67375,
          3654.052968,
          3378.944431,
          3234.069621,
          3008.233321,
          2757.23181,
          2554.172167,
          2735.786539,
          4616.944854,
          5180.061202,
          47633.114,
          47633.114,
          47633.114,
          47419.27841,
          47419.27841,
          47419.27841,
          46878.91624,
          46878.91624,
          46878.91624,
          46469.86106,
          46469.86106,
          46469.86106,
          12672.37622,
          11684.19154,
          9453.94186,
          7106.597907,
          5610.763137,
          5180.686458,
          4736.564376,
          4360.459441,
          3998.520483,
          3628.716883,
          3408.475381,
          46408.83208,
          47000.31533,
          46910.19114,
          47493.1484,
          47661.39407,
          47476.98335,
          47311.74551,
          48245.77548,
          49406.29103,
          48988.57018,
          48717.18204,
          46538.77472,
          47819.42395,
          43430.27134,
          41770.64215,
          38601.03273,
          15942.89768,
          14417.35353,
          13214.87158,
          11940.1866,
          10839.95627,
          10839.95627,
          9660.193688,
          9660.193688,
          8961.64112,
          8961.64112,
          8477.084011,
          8477.084011,
          8053.173638,
          8053.173638,
          7575.918326,
          7575.918326,
          7293.908216,
          7293.908216,
          6698.457879,
          6698.457879,
          5988.03971,
          5988.03971,
          5805.363156,
          5805.363156,
          6458.214559,
          7305.306909,
          7923.650356,
          8784.377365,
          8895.172703,
          98257.9927,
          95615.3607,
          91114.07699,
          90195.81156,
          9856.973196,
          9350.948134,
          9002.915494,
          8471.869129,
          8162.501207,
          7779.798384,
          7604.514043,
          6757.747987,
          12318.36204,
          11600.3295,
          11305.57343,
          11205.39998,
          10896.88274,
          10629.94692,
          10636.8464,
          9911.136066,
          10094.13607,
          10094.13607,
          9539.383617,
          9232.009612,
          8836.786674,
          8740.441505,
          8799.828413,
          8790.35358,
          8431.739276,
          11800.84089,
          11602.49953,
          11600.94838,
          11272.70673,
          11387.62349,
          11524.111,
          11321.3898,
          11254.11683,
          10973.25383,
          18250.54052,
          18250.54052,
          17078.3683,
          17078.3683,
          15904.90196,
          15904.90196,
          14779.19305,
          14779.19305,
          13701.50142,
          12767.2686,
          12036.18332,
          11124.50607,
          10503.62031,
          9993.449174,
          10848.42118,
          10382.85145,
          12015.92681,
          45851.63025,
          45851.63025,
          45888.47633,
          45888.47633,
          43358.18239,
          43358.18239,
          42046.86958,
          42046.86958,
          40426.23133,
          40426.23133,
          39268.21243,
          39268.21243,
          38169.10636,
          38169.10636,
          37309.6498,
          37309.6498,
          37194.3956,
          37194.3956,
          35782.69026,
          35782.69026,
          34697.09058,
          34697.09058,
          34034.45518,
          34034.45518,
          7412.874363,
          6795.174012,
          5979.781712,
          5334.646639,
          4817.211845,
          4400.825183,
          4024.355697,
          3712.338132,
          3451.679231,
          3206.730026,
          3004.427342,
          2812.711135,
          2601.363426,
          2391.477116,
          2178.924057,
          1949.534268,
          1731.657215,
          1534.705272,
          1423.896348,
          11161.51332,
          10586.79488,
          10049.12618,
          9716.499107,
          9356.209684,
          9137.464303,
          9042.662791,
          8927.730067,
          8927.730067,
          9473.818705,
          9473.818705,
          9580.086741,
          9580.086741,
          9424.096947,
          9424.096947,
          9400.309197,
          9400.309197,
          9100.983493,
          9100.983493,
          8764.526634,
          8764.526634,
          8478.203182,
          8478.203182,
          8308.932643,
          8308.932643,
          16527.43608,
          16527.43608,
          15989.33133,
          14976.81578,
          14149.51924,
          14149.51924,
          13802.72868,
          13802.72868,
          13411.8483,
          13054.71918,
          12832.57368,
          12832.57368,
          12624.07057,
          12394.54799,
          12148.19686,
          11595.93704,
          11255.97406,
          11378.00017,
          11198.02715,
          10988.77545,
          10528.34779,
          9895.495601,
          9932.62984,
          26170.99589,
          24940.02123,
          23771.94519,
          22818.54019,
          21915.5581,
          20773.84664,
          19661.05965,
          18362.10509,
          17670.2239,
          17749.61399,
          17355.87203,
          16273.51415,
          16273.51415,
          15146.72034,
          38847.03906,
          38847.03906,
          38847.03906,
          38847.03906,
          37722.42188,
          37722.42188,
          37722.42188,
          37722.42188,
          36498.35156,
          36498.35156,
          36498.35156,
          36498.35156,
          35219.59375,
          35219.59375,
          35219.59375,
          35219.59375,
          34738.94141,
          34738.94141,
          34738.94141,
          34738.94141,
          33878.07422,
          33878.07422,
          33878.07422,
          33878.07422,
          32943.10938,
          32943.10938,
          32943.10938,
          31421.02344,
          31421.02344,
          31421.02344,
          30262.10547,
          30262.10547,
          30262.10547,
          28871.16797,
          28871.16797,
          28871.16797,
          28871.16797,
          28529.88672,
          28529.88672,
          28529.88672,
          28529.88672,
          28630.77734,
          28630.77734,
          26904.69531,
          26904.69531,
          25936.68555,
          25936.68555,
          26385.94141,
          26385.94141,
          24769.05664,
          24769.05664,
          25232,
          25232,
          33956.24598,
          32352.81297,
          30384.44665,
          28542.25482,
          28542.25482,
          27239.55944,
          27239.55944,
          26289.62614,
          26289.62614,
          25833.41467,
          25833.41467,
          24976.50632,
          24976.50632,
          23948.38503,
          23948.38503,
          23597.30618,
          23597.30618,
          23659.32079,
          23659.32079,
          23756.97839,
          23756.97839,
          22758.59681,
          21356.3128,
          20760.05425,
          20768.78817,
          20895.87976,
          23585.18149,
          9533.318944,
          9424.795253,
          9690.598875,
          9410.032484,
          9322.139196,
          9043.597783,
          8670.437846,
          8255.564811,
          8255.564811,
          7707.395196,
          7707.395196,
          7396.841992,
          7122.376245,
          7068.107888,
          6706.026132,
          6143.848158,
          9274.977054,
          8814.14605,
          8397.032444,
          8184.065808,
          8007.645029,
          7905.41252,
          7867.50744,
          7744.715238,
          7422.835299,
          7138.212201,
          6897.521242,
          6671.089393,
          7168.003471,
          6900.4893,
          6749.982948,
          6723.657161,
          6655.487668,
          6591.269184,
          6577.153844,
          6551.751828,
          6465.164158,
          29621.76453,
          31140.57984,
          28814.92032,
          26096.98834,
          23691.15299,
          22049.68279,
          20364.00874,
          18952.10701,
          17765.20753,
          16215.57895,
          16332.81993,
          15503.84483,
          13558.56853,
          12730.71741,
          10630.48437,
          10117.52079,
          9798.357406,
          9075.107946,
          9075.107946,
          9042.407927,
          9042.407927,
          9344.204276,
          9344.204276,
          8599.255803,
          8599.255803,
          8451.426339,
          8451.426339,
          42367.56986,
          41643.98889,
          40388.62565,
          40226.62707,
          39732.28245,
          38494.94682,
          9109.897741,
          8049.906055,
          7315.19848,
          6632.814265,
          6230.821909,
          5572.622006,
          5236.222806,
          4919.23188,
          4737.405516,
          4511.488803,
          4268.695273,
          2459.250963,
          2404.509593,
          7365.280436,
          7269.20626,
          6972.381592,
          6753.682536,
          6676.704533,
          6612.669877,
          6589.737074,
          6493.60647,
          6499.883285,
          6428.047976,
          6338.338074,
          6181.172344,
          6064.020817,
          6033.042695,
          5891.327439,
          5805.709528,
          5730.645953,
          5611.542265,
          5561.070684,
          8972.291003,
          8371.951303,
          8128.425017,
          8009.69586,
          4733.547869,
          25835.54969,
          25533.36755,
          25423.42512,
          24419.82886,
          23367.60743,
          22205.5429,
          21273.12412,
          20252.41087,
          19415.02347,
          18534.46107,
          17931.3577,
          17218.17473,
          16659.88068,
          16617.59374,
          16350.92365,
          15861.106,
          15934.83092,
          7657.594719,
          7319.434386,
          6974.445654,
          6699.272091,
          6423.720714,
          6198.653268,
          5996.189946,
          5816.425412,
          5689.260223,
          5497.814735,
          33045.12253,
          32512.86739,
          31192.1822,
          31192.1822,
          30014.61268,
          30014.61268,
          29328.70555,
          28453.25361,
          28642.44496,
          29282.52481,
          29950.31811,
          28240.98707,
          27970.64422,
          27464.7569,
          27096.08105,
          26233.12818,
          44623.60202,
          45356.53672,
          44918.17035,
          44260.82742,
          44118.03664,
          43781.21998,
          43915.38534,
          43869.42794,
          43053.93306,
          41501.78837,
          40844.74561,
          40129.90188,
          39429.49556,
          38947.20131,
          37855.00774,
          37065.43412,
          37407.11132,
          37122.82193,
          36585.6799,
          19770.21665,
          19500.47894,
          18112.7787,
          16536.01541,
          15208.44025,
          13973.07774,
          12827.23108,
          11682.84179,
          10275.76187,
          9330.564789,
          8998.901209,
          9016.003247,
          8726.538477,
          9126.25583,
          10292.19832,
          24903.59451,
          25469.15706,
          22977.47883,
          20334.59997,
          18169.1835,
          16597.38784,
          15160.84205,
          13993.95342,
          12992.20367,
          12176.46498,
          11753.79966,
          10949.72464,
          9960.889173,
          9600.849395,
          26784.88003,
          26784.88003,
          25835.36802,
          25835.36802,
          22977.99665,
          22977.99665,
          21053.1846,
          21053.1846,
          21053.1846,
          19226.46927,
          19226.46927,
          19226.46927,
          17839.78274,
          17839.78274,
          17839.78274,
          17839.78274,
          16004.4389,
          16004.4389,
          16004.4389,
          16004.4389,
          14872.37909,
          14872.37909,
          14872.37909,
          14872.37909,
          13846.68329,
          13846.68329,
          13846.68329,
          13846.68329,
          13259.61695,
          13259.61695,
          13259.61695,
          13259.61695,
          13259.61695,
          13317.90773,
          13317.90773,
          13317.90773,
          13317.90773,
          13317.90773,
          12302.1012,
          12302.1012,
          12302.1012,
          12302.1012,
          12302.1012,
          11274.64011,
          11274.64011,
          11274.64011,
          11274.64011,
          10640.36003,
          10640.36003,
          10640.36003,
          10640.36003,
          1559.874958,
          31927.451,
          30951.54851,
          29644.2561,
          29023.91645,
          28253.53183,
          28404.08738,
          27472.28614,
          26985.60739,
          27512.2468,
          15655.60432,
          14909.17086,
          14165.95449,
          13571.8356,
          13413.99326,
          12938.15268,
          12303.10685,
          12191.92742,
          11890.58865,
          11890.58865,
          11890.58865,
          11097.6902,
          11097.6902,
          11097.6902,
          10953.67688,
          10953.67688,
          10435.79837,
          10435.79837,
          9998.617114,
          9998.617114,
          9566.824921,
          9566.824921,
          9252.715908,
          9252.715908,
          9010.484481,
          9010.484481,
          8676.973886,
          8676.973886,
          8254.316211,
          8254.316211,
          7989.529896,
          7989.529896,
          18396.81092,
          18462.84012,
          18319.47756,
          17788.58912,
          17635.24685,
          17635.24685,
          17205.98656,
          17205.98656,
          17205.98656,
          17193.56108,
          17193.56108,
          17193.56108,
          17438.20852,
          17438.20852,
          17438.20852,
          17438.20852,
          17756.56647,
          17756.56647,
          17756.56647,
          17756.56647,
          17165.89218,
          17165.89218,
          17165.89218,
          17165.89218,
          16954.32961,
          16954.32961,
          16954.32961,
          16954.32961,
          16368.09277,
          16368.09277,
          16368.09277,
          15559.97637,
          15559.97637,
          15559.97637,
          14808.80712,
          14808.80712,
          14808.80712,
          16067.14605,
          15575.11806,
          15293.15871,
          7351.82775,
          6850.078177,
          6298.235621,
          5876.280812,
          5544.780593,
          5068.306457,
          4785.972155,
          4614.387656,
          4523.506409,
          17391.01169,
          16248.32745,
          6511.898456,
          1987.825045,
          49467.43543,
          49467.43543,
          48586.70462,
          48586.70462,
          47806.88443,
          47806.88443,
          47958.33197,
          47958.33197,
          48160.78437,
          48160.78437,
          47422.2034,
          47422.2034,
          45839.13146,
          45839.13146,
          43933.56811,
          43933.56811,
          42235.48907,
          42235.48907,
          40691.89032,
          40691.89032,
          39498.13682,
          39498.13682,
          38494.21785,
          38494.21785,
          4438.858701,
          4320.677606,
          4320.677606,
          4200.212434,
          4200.212434,
          4043.220987,
          4043.220987,
          3998.81021,
          3998.81021,
          4025.934079,
          4025.934079,
          3968.826142,
          3968.826142,
          3872.241397,
          3676.931473,
          3606.281618,
          3531.667607,
          3384.784437,
          3261.164121,
          3224.08483,
          3309.468637,
          3371.62184,
          20636.92562,
          19125.62699,
          17391.08796,
          16301.51449,
          15491.00064,
          14677.99494,
          14353.36905,
          14405.38454,
          14142.62563,
          9657.68146,
          9193.839912,
          8337.472158,
          8138.104853,
          8295.067442,
          8530.20799,
          8911.164793,
          9226.506369,
          9422.683275,
          9243.474955,
          9311.339288,
          9341.231027,
          9341.231027,
          8629.264533,
          8629.264533,
          8017.255022,
          8017.255022,
          7519.029069,
          7519.029069,
          7136.351561,
          7136.351561,
          6861.830619,
          6861.830619,
          6653.395098,
          6653.395098,
          5618.484953,
          5474.681327,
          5474.681327,
          5228.315741,
          5228.315741,
          5054.238933,
          5054.238933,
          5054.238933,
          4908.058738,
          4908.058738,
          4697.48565,
          4697.48565,
          4697.48565,
          4562.761382,
          4562.761382,
          4492.721424,
          4492.721424,
          4492.721424,
          4359.888549,
          4312.152103,
          4431.837268,
          4309.450332,
          4165.249064,
          4074.72764,
          3997.012972,
          4006.344665,
          4088.102367,
          4209.482917,
          22444.90827,
          21543.16329,
          20111.2993,
          18937.4759,
          18287.82825,
          17409.63874,
          16809.81841,
          16466.78676,
          16257.64576,
          15386.94246,
          14701.34311,
          14054.38796,
          13211.56796,
          12459.66578,
          11649.16325,
          11086.95955,
          92749.55666,
          93656.33907,
          87721.94941,
          86643.64357,
          19833.95442,
          18224.77123,
          16770.64313,
          15924.04054,
          14338.34656,
          13909.65599,
          12920.48085,
          12109.54419,
          11803.36775,
          11829.41027,
          12049.53404,
          12627.19414,
          12117.35375,
          11383.2845,
          10936.72196,
          10757.38362,
          83839.84989,
          81766.00552,
          80883.70326,
          78396.54464,
          76507.47523,
          77249.23671,
          73393.25538,
          68029.67719,
          63990.01449,
          14691.78637,
          13846.28812,
          12955.95856,
          12277.98163,
          11599.64923,
          10614.33265,
          21007.58002,
          21953.98978,
          19983.75998,
          18649.68385,
          17188.34821,
          17627.26859,
          18519.18541,
          18865.32806,
          19320.64083,
          19203.08055,
          19203.08055,
          19224.11871,
          19224.11871,
          18084.10329,
          18084.10329,
          16342.71842,
          16342.71842,
          15806.9543,
          15806.9543,
          16174.60479,
          16174.60479,
          16745.32522,
          16745.32522,
          16100.24252,
          16100.24252,
          15093.39103,
          15093.39103,
          14884.88778,
          14884.88778,
          71464.9282,
          73992.12378,
          70756.44143,
          66973.54566,
          63862.12344,
          58819.95605,
          55437.55789,
          53833.72753,
          55904.2336,
          52166.02258,
          49740.24464,
          36075.46697,
          34907.36883,
          32812.73849,
          31128.82984,
          30041.81457,
          28805.38512,
          27994.06198,
          27079.4749,
          26276.94456,
          25421.2949,
          24151.53898,
          23333.71968,
          22182.21169,
          21480.32798,
          8274.175363,
          8274.175363,
          7865.368304,
          7865.368304,
          7419.413868,
          7419.413868,
          6944.226768,
          6944.226768,
          6589.463508,
          6589.463508,
          6302.215947,
          6302.215947,
          5999.25704,
          5999.25704,
          5816.473939,
          5816.473939,
          5949.970029,
          5949.970029,
          5647.558328,
          5647.558328,
          5443.484129,
          5443.484129,
          5225.577743,
          5225.577743,
          47963.49375,
          48557.38435,
          47292.31369,
          45440.29675,
          44354.39106,
          42678.28414,
          41870.25916,
          41103.72646,
          40625.36205,
          38839.42627,
          37286.09539,
          35764.68476,
          34719.11075,
          34233.70278,
          33110.82558,
          32086.01264,
          2133.122434,
          2018.817874,
          1923.781794,
          1837.33112,
          1696.529338,
          1555.679602,
          1428.119707,
          1324.67911,
          1172.170092,
          1169.945378,
          1425.582163,
          1652.224201,
          2131.61906,
          2591.871631,
          3719.371003,
          13460.06056,
          12837.87792,
          11260.15811,
          10583.76186,
          10053.8154,
          9809.62237,
          4342.441197,
          3764.933876,
          4843.567087,
          4736.780784,
          4772.176619,
          4622.078757,
          13719.27148,
          13345.77148,
          12259.1582,
          11319.51074,
          10902.03809,
          9678.086914,
          8765.682617,
          8242.703125,
          8242.703125,
          7496.812988,
          7496.812988,
          7008.243652,
          7008.243652,
          6956.398926,
          6956.398926,
          7028.046387,
          7028.046387,
          7179.677734,
          7179.677734,
          7906.957031,
          7906.957031,
          8934.775391,
          11531.29883,
          13447.16406,
          14967.7334,
          16428.48047,
          43767.6958,
          43767.6958,
          44219.48767,
          44219.48767,
          44219.48767,
          44219.48767,
          43576.19779,
          43576.19779,
          43576.19779,
          43576.19779,
          42791.89675,
          42791.89675,
          42791.89675,
          42791.89675,
          41997.60621,
          41997.60621,
          41997.60621,
          41997.60621,
          41265.17497,
          41265.17497,
          41265.17497,
          41265.17497,
          41265.17497,
          41265.17497,
          40238.58579,
          40238.58579,
          40238.58579,
          40238.58579,
          40238.58579,
          40238.58579,
          39569.15051,
          39569.15051,
          39569.15051,
          39569.15051,
          39569.15051,
          39569.15051,
          38915.19754,
          38915.19754,
          38915.19754,
          38915.19754,
          38915.19754,
          38915.19754,
          37671.06985,
          37671.06985,
          37671.06985,
          37671.06985,
          37671.06985,
          37671.06985,
          36699.52046,
          36699.52046,
          36699.52046,
          36699.52046,
          36699.52046,
          35681.24413,
          35681.24413,
          35681.24413,
          35681.24413,
          35681.24413,
          34099.31658,
          34099.31658,
          34099.31658,
          34099.31658,
          33375.70964,
          33375.70964,
          33375.70964,
          33375.70964,
          32637.83874,
          32637.83874,
          31509.1898,
          31509.1898,
          30817.51816,
          30817.51816,
          30777.52798,
          30777.52798,
          31217.21806,
          31217.21806,
          55426.2175,
          55884.67745,
          55306.76044,
          54330.71655,
          52988.11218,
          51496.84202,
          50528.4737,
          50148.95939,
          50168.98672,
          48743.03791,
          47050.1795,
          45560.13039,
          44148.60584,
          43041.46773,
          42418.46007,
          41278.80096,
          17266.53048,
          16151.36953,
          3430.628559,
          3229.847924,
          3134.961174,
          3052.281504,
          2897.820036,
          2808.46101,
          2736.364944,
          2650.609599,
          2656.632634,
          2729.637776
         ]
        }
       ],
       "layout": {
        "coloraxis": {
         "colorbar": {
          "title": {
           "text": "avg of Gdp_Per_Capita"
          }
         },
         "colorscale": [
          [
           0,
           "#0d0887"
          ],
          [
           0.1111111111111111,
           "#46039f"
          ],
          [
           0.2222222222222222,
           "#7201a8"
          ],
          [
           0.3333333333333333,
           "#9c179e"
          ],
          [
           0.4444444444444444,
           "#bd3786"
          ],
          [
           0.5555555555555556,
           "#d8576b"
          ],
          [
           0.6666666666666666,
           "#ed7953"
          ],
          [
           0.7777777777777778,
           "#fb9f3a"
          ],
          [
           0.8888888888888888,
           "#fdca26"
          ],
          [
           1,
           "#f0f921"
          ]
         ]
        },
        "legend": {
         "tracegroupgap": 0
        },
        "margin": {
         "t": 60
        },
        "template": {
         "data": {
          "bar": [
           {
            "error_x": {
             "color": "#2a3f5f"
            },
            "error_y": {
             "color": "#2a3f5f"
            },
            "marker": {
             "line": {
              "color": "#E5ECF6",
              "width": 0.5
             },
             "pattern": {
              "fillmode": "overlay",
              "size": 10,
              "solidity": 0.2
             }
            },
            "type": "bar"
           }
          ],
          "barpolar": [
           {
            "marker": {
             "line": {
              "color": "#E5ECF6",
              "width": 0.5
             },
             "pattern": {
              "fillmode": "overlay",
              "size": 10,
              "solidity": 0.2
             }
            },
            "type": "barpolar"
           }
          ],
          "carpet": [
           {
            "aaxis": {
             "endlinecolor": "#2a3f5f",
             "gridcolor": "white",
             "linecolor": "white",
             "minorgridcolor": "white",
             "startlinecolor": "#2a3f5f"
            },
            "baxis": {
             "endlinecolor": "#2a3f5f",
             "gridcolor": "white",
             "linecolor": "white",
             "minorgridcolor": "white",
             "startlinecolor": "#2a3f5f"
            },
            "type": "carpet"
           }
          ],
          "choropleth": [
           {
            "colorbar": {
             "outlinewidth": 0,
             "ticks": ""
            },
            "type": "choropleth"
           }
          ],
          "contour": [
           {
            "colorbar": {
             "outlinewidth": 0,
             "ticks": ""
            },
            "colorscale": [
             [
              0,
              "#0d0887"
             ],
             [
              0.1111111111111111,
              "#46039f"
             ],
             [
              0.2222222222222222,
              "#7201a8"
             ],
             [
              0.3333333333333333,
              "#9c179e"
             ],
             [
              0.4444444444444444,
              "#bd3786"
             ],
             [
              0.5555555555555556,
              "#d8576b"
             ],
             [
              0.6666666666666666,
              "#ed7953"
             ],
             [
              0.7777777777777778,
              "#fb9f3a"
             ],
             [
              0.8888888888888888,
              "#fdca26"
             ],
             [
              1,
              "#f0f921"
             ]
            ],
            "type": "contour"
           }
          ],
          "contourcarpet": [
           {
            "colorbar": {
             "outlinewidth": 0,
             "ticks": ""
            },
            "type": "contourcarpet"
           }
          ],
          "heatmap": [
           {
            "colorbar": {
             "outlinewidth": 0,
             "ticks": ""
            },
            "colorscale": [
             [
              0,
              "#0d0887"
             ],
             [
              0.1111111111111111,
              "#46039f"
             ],
             [
              0.2222222222222222,
              "#7201a8"
             ],
             [
              0.3333333333333333,
              "#9c179e"
             ],
             [
              0.4444444444444444,
              "#bd3786"
             ],
             [
              0.5555555555555556,
              "#d8576b"
             ],
             [
              0.6666666666666666,
              "#ed7953"
             ],
             [
              0.7777777777777778,
              "#fb9f3a"
             ],
             [
              0.8888888888888888,
              "#fdca26"
             ],
             [
              1,
              "#f0f921"
             ]
            ],
            "type": "heatmap"
           }
          ],
          "heatmapgl": [
           {
            "colorbar": {
             "outlinewidth": 0,
             "ticks": ""
            },
            "colorscale": [
             [
              0,
              "#0d0887"
             ],
             [
              0.1111111111111111,
              "#46039f"
             ],
             [
              0.2222222222222222,
              "#7201a8"
             ],
             [
              0.3333333333333333,
              "#9c179e"
             ],
             [
              0.4444444444444444,
              "#bd3786"
             ],
             [
              0.5555555555555556,
              "#d8576b"
             ],
             [
              0.6666666666666666,
              "#ed7953"
             ],
             [
              0.7777777777777778,
              "#fb9f3a"
             ],
             [
              0.8888888888888888,
              "#fdca26"
             ],
             [
              1,
              "#f0f921"
             ]
            ],
            "type": "heatmapgl"
           }
          ],
          "histogram": [
           {
            "marker": {
             "pattern": {
              "fillmode": "overlay",
              "size": 10,
              "solidity": 0.2
             }
            },
            "type": "histogram"
           }
          ],
          "histogram2d": [
           {
            "colorbar": {
             "outlinewidth": 0,
             "ticks": ""
            },
            "colorscale": [
             [
              0,
              "#0d0887"
             ],
             [
              0.1111111111111111,
              "#46039f"
             ],
             [
              0.2222222222222222,
              "#7201a8"
             ],
             [
              0.3333333333333333,
              "#9c179e"
             ],
             [
              0.4444444444444444,
              "#bd3786"
             ],
             [
              0.5555555555555556,
              "#d8576b"
             ],
             [
              0.6666666666666666,
              "#ed7953"
             ],
             [
              0.7777777777777778,
              "#fb9f3a"
             ],
             [
              0.8888888888888888,
              "#fdca26"
             ],
             [
              1,
              "#f0f921"
             ]
            ],
            "type": "histogram2d"
           }
          ],
          "histogram2dcontour": [
           {
            "colorbar": {
             "outlinewidth": 0,
             "ticks": ""
            },
            "colorscale": [
             [
              0,
              "#0d0887"
             ],
             [
              0.1111111111111111,
              "#46039f"
             ],
             [
              0.2222222222222222,
              "#7201a8"
             ],
             [
              0.3333333333333333,
              "#9c179e"
             ],
             [
              0.4444444444444444,
              "#bd3786"
             ],
             [
              0.5555555555555556,
              "#d8576b"
             ],
             [
              0.6666666666666666,
              "#ed7953"
             ],
             [
              0.7777777777777778,
              "#fb9f3a"
             ],
             [
              0.8888888888888888,
              "#fdca26"
             ],
             [
              1,
              "#f0f921"
             ]
            ],
            "type": "histogram2dcontour"
           }
          ],
          "mesh3d": [
           {
            "colorbar": {
             "outlinewidth": 0,
             "ticks": ""
            },
            "type": "mesh3d"
           }
          ],
          "parcoords": [
           {
            "line": {
             "colorbar": {
              "outlinewidth": 0,
              "ticks": ""
             }
            },
            "type": "parcoords"
           }
          ],
          "pie": [
           {
            "automargin": true,
            "type": "pie"
           }
          ],
          "scatter": [
           {
            "fillpattern": {
             "fillmode": "overlay",
             "size": 10,
             "solidity": 0.2
            },
            "type": "scatter"
           }
          ],
          "scatter3d": [
           {
            "line": {
             "colorbar": {
              "outlinewidth": 0,
              "ticks": ""
             }
            },
            "marker": {
             "colorbar": {
              "outlinewidth": 0,
              "ticks": ""
             }
            },
            "type": "scatter3d"
           }
          ],
          "scattercarpet": [
           {
            "marker": {
             "colorbar": {
              "outlinewidth": 0,
              "ticks": ""
             }
            },
            "type": "scattercarpet"
           }
          ],
          "scattergeo": [
           {
            "marker": {
             "colorbar": {
              "outlinewidth": 0,
              "ticks": ""
             }
            },
            "type": "scattergeo"
           }
          ],
          "scattergl": [
           {
            "marker": {
             "colorbar": {
              "outlinewidth": 0,
              "ticks": ""
             }
            },
            "type": "scattergl"
           }
          ],
          "scattermapbox": [
           {
            "marker": {
             "colorbar": {
              "outlinewidth": 0,
              "ticks": ""
             }
            },
            "type": "scattermapbox"
           }
          ],
          "scatterpolar": [
           {
            "marker": {
             "colorbar": {
              "outlinewidth": 0,
              "ticks": ""
             }
            },
            "type": "scatterpolar"
           }
          ],
          "scatterpolargl": [
           {
            "marker": {
             "colorbar": {
              "outlinewidth": 0,
              "ticks": ""
             }
            },
            "type": "scatterpolargl"
           }
          ],
          "scatterternary": [
           {
            "marker": {
             "colorbar": {
              "outlinewidth": 0,
              "ticks": ""
             }
            },
            "type": "scatterternary"
           }
          ],
          "surface": [
           {
            "colorbar": {
             "outlinewidth": 0,
             "ticks": ""
            },
            "colorscale": [
             [
              0,
              "#0d0887"
             ],
             [
              0.1111111111111111,
              "#46039f"
             ],
             [
              0.2222222222222222,
              "#7201a8"
             ],
             [
              0.3333333333333333,
              "#9c179e"
             ],
             [
              0.4444444444444444,
              "#bd3786"
             ],
             [
              0.5555555555555556,
              "#d8576b"
             ],
             [
              0.6666666666666666,
              "#ed7953"
             ],
             [
              0.7777777777777778,
              "#fb9f3a"
             ],
             [
              0.8888888888888888,
              "#fdca26"
             ],
             [
              1,
              "#f0f921"
             ]
            ],
            "type": "surface"
           }
          ],
          "table": [
           {
            "cells": {
             "fill": {
              "color": "#EBF0F8"
             },
             "line": {
              "color": "white"
             }
            },
            "header": {
             "fill": {
              "color": "#C8D4E3"
             },
             "line": {
              "color": "white"
             }
            },
            "type": "table"
           }
          ]
         },
         "layout": {
          "annotationdefaults": {
           "arrowcolor": "#2a3f5f",
           "arrowhead": 0,
           "arrowwidth": 1
          },
          "autotypenumbers": "strict",
          "coloraxis": {
           "colorbar": {
            "outlinewidth": 0,
            "ticks": ""
           }
          },
          "colorscale": {
           "diverging": [
            [
             0,
             "#8e0152"
            ],
            [
             0.1,
             "#c51b7d"
            ],
            [
             0.2,
             "#de77ae"
            ],
            [
             0.3,
             "#f1b6da"
            ],
            [
             0.4,
             "#fde0ef"
            ],
            [
             0.5,
             "#f7f7f7"
            ],
            [
             0.6,
             "#e6f5d0"
            ],
            [
             0.7,
             "#b8e186"
            ],
            [
             0.8,
             "#7fbc41"
            ],
            [
             0.9,
             "#4d9221"
            ],
            [
             1,
             "#276419"
            ]
           ],
           "sequential": [
            [
             0,
             "#0d0887"
            ],
            [
             0.1111111111111111,
             "#46039f"
            ],
            [
             0.2222222222222222,
             "#7201a8"
            ],
            [
             0.3333333333333333,
             "#9c179e"
            ],
            [
             0.4444444444444444,
             "#bd3786"
            ],
            [
             0.5555555555555556,
             "#d8576b"
            ],
            [
             0.6666666666666666,
             "#ed7953"
            ],
            [
             0.7777777777777778,
             "#fb9f3a"
            ],
            [
             0.8888888888888888,
             "#fdca26"
            ],
            [
             1,
             "#f0f921"
            ]
           ],
           "sequentialminus": [
            [
             0,
             "#0d0887"
            ],
            [
             0.1111111111111111,
             "#46039f"
            ],
            [
             0.2222222222222222,
             "#7201a8"
            ],
            [
             0.3333333333333333,
             "#9c179e"
            ],
            [
             0.4444444444444444,
             "#bd3786"
            ],
            [
             0.5555555555555556,
             "#d8576b"
            ],
            [
             0.6666666666666666,
             "#ed7953"
            ],
            [
             0.7777777777777778,
             "#fb9f3a"
            ],
            [
             0.8888888888888888,
             "#fdca26"
            ],
            [
             1,
             "#f0f921"
            ]
           ]
          },
          "colorway": [
           "#636efa",
           "#EF553B",
           "#00cc96",
           "#ab63fa",
           "#FFA15A",
           "#19d3f3",
           "#FF6692",
           "#B6E880",
           "#FF97FF",
           "#FECB52"
          ],
          "font": {
           "color": "#2a3f5f"
          },
          "geo": {
           "bgcolor": "white",
           "lakecolor": "white",
           "landcolor": "#E5ECF6",
           "showlakes": true,
           "showland": true,
           "subunitcolor": "white"
          },
          "hoverlabel": {
           "align": "left"
          },
          "hovermode": "closest",
          "mapbox": {
           "style": "light"
          },
          "paper_bgcolor": "white",
          "plot_bgcolor": "#E5ECF6",
          "polar": {
           "angularaxis": {
            "gridcolor": "white",
            "linecolor": "white",
            "ticks": ""
           },
           "bgcolor": "#E5ECF6",
           "radialaxis": {
            "gridcolor": "white",
            "linecolor": "white",
            "ticks": ""
           }
          },
          "scene": {
           "xaxis": {
            "backgroundcolor": "#E5ECF6",
            "gridcolor": "white",
            "gridwidth": 2,
            "linecolor": "white",
            "showbackground": true,
            "ticks": "",
            "zerolinecolor": "white"
           },
           "yaxis": {
            "backgroundcolor": "#E5ECF6",
            "gridcolor": "white",
            "gridwidth": 2,
            "linecolor": "white",
            "showbackground": true,
            "ticks": "",
            "zerolinecolor": "white"
           },
           "zaxis": {
            "backgroundcolor": "#E5ECF6",
            "gridcolor": "white",
            "gridwidth": 2,
            "linecolor": "white",
            "showbackground": true,
            "ticks": "",
            "zerolinecolor": "white"
           }
          },
          "shapedefaults": {
           "line": {
            "color": "#2a3f5f"
           }
          },
          "ternary": {
           "aaxis": {
            "gridcolor": "white",
            "linecolor": "white",
            "ticks": ""
           },
           "baxis": {
            "gridcolor": "white",
            "linecolor": "white",
            "ticks": ""
           },
           "bgcolor": "#E5ECF6",
           "caxis": {
            "gridcolor": "white",
            "linecolor": "white",
            "ticks": ""
           }
          },
          "title": {
           "x": 0.05
          },
          "xaxis": {
           "automargin": true,
           "gridcolor": "white",
           "linecolor": "white",
           "ticks": "",
           "title": {
            "standoff": 15
           },
           "zerolinecolor": "white",
           "zerolinewidth": 2
          },
          "yaxis": {
           "automargin": true,
           "gridcolor": "white",
           "linecolor": "white",
           "ticks": "",
           "title": {
            "standoff": 15
           },
           "zerolinecolor": "white",
           "zerolinewidth": 2
          }
         }
        },
        "xaxis": {
         "anchor": "y",
         "domain": [
          0,
          1
         ],
         "title": {
          "text": "Country"
         }
        },
        "yaxis": {
         "anchor": "x",
         "domain": [
          0,
          1
         ],
         "title": {
          "text": "Year"
         }
        }
       }
      }
     },
     "metadata": {},
     "output_type": "display_data"
    }
   ],
   "source": [
    "px.density_heatmap(gdp_wage, x = 'Country', y = 'Year', z='Gdp_Per_Capita',histfunc = 'avg')"
   ]
  },
  {
   "cell_type": "code",
   "execution_count": 91,
   "metadata": {},
   "outputs": [
    {
     "data": {
      "text/plain": [
       "<Axes: xlabel='Country'>"
      ]
     },
     "execution_count": 91,
     "metadata": {},
     "output_type": "execute_result"
    },
    {
     "data": {
      "image/png": "[encoded data removed]",
      "text/plain": [
       "<Figure size 640x480 with 1 Axes>"
      ]
     },
     "metadata": {},
     "output_type": "display_data"
    }
   ],
   "source": [
    "gdp_wage_2008 = gdp_wage[gdp_wage['Year']==2008]\n",
    "gdp_wage_2008.plot(x='Country',y=['Gdp_Per_Capita', 'wages per month'],rot=90)\n",
    "# sns.lineplot(gdp_wage_2008, x= 'Country', y = 'wages per month')"
   ]
  },
  {
   "cell_type": "code",
   "execution_count": null,
   "metadata": {},
   "outputs": [],
   "source": []
  }
 ],
 "metadata": {
  "kernelspec": {
   "display_name": "base",
   "language": "python",
   "name": "python3"
  },
  "language_info": {
   "codemirror_mode": {
    "name": "ipython",
    "version": 3
   },
   "file_extension": ".py",
   "mimetype": "text/x-python",
   "name": "python",
   "nbconvert_exporter": "python",
   "pygments_lexer": "ipython3",
   "version": "3.11.4"
  },
  "orig_nbformat": 4
 },
 "nbformat": 4,
 "nbformat_minor": 2
}
